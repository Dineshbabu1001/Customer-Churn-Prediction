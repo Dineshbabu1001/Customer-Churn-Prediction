{
  "nbformat": 4,
  "nbformat_minor": 0,
  "metadata": {
    "colab": {
      "provenance": []
    },
    "kernelspec": {
      "name": "python3",
      "display_name": "Python 3"
    },
    "language_info": {
      "name": "python"
    }
  },
  "cells": [
    {
      "cell_type": "code",
      "execution_count": null,
      "metadata": {
        "colab": {
          "base_uri": "https://localhost:8080/"
        },
        "id": "yI4asvTEP2eC",
        "outputId": "49da6931-5a5c-4931-e6e0-d17f69e9762b"
      },
      "outputs": [
        {
          "output_type": "stream",
          "name": "stdout",
          "text": [
            "Looking in indexes: https://pypi.org/simple, https://us-python.pkg.dev/colab-wheels/public/simple/\n",
            "Requirement already satisfied: pandas in /usr/local/lib/python3.10/dist-packages (1.5.3)\n",
            "Requirement already satisfied: python-dateutil>=2.8.1 in /usr/local/lib/python3.10/dist-packages (from pandas) (2.8.2)\n",
            "Requirement already satisfied: pytz>=2020.1 in /usr/local/lib/python3.10/dist-packages (from pandas) (2022.7.1)\n",
            "Requirement already satisfied: numpy>=1.21.0 in /usr/local/lib/python3.10/dist-packages (from pandas) (1.22.4)\n",
            "Requirement already satisfied: six>=1.5 in /usr/local/lib/python3.10/dist-packages (from python-dateutil>=2.8.1->pandas) (1.16.0)\n"
          ]
        }
      ],
      "source": [
        "!pip install pandas"
      ]
    },
    {
      "cell_type": "code",
      "source": [
        "import pandas as pd\n",
        "import matplotlib.pyplot as plt\n",
        "import seaborn as snp\n",
        "import numpy as np\n",
        "from sklearn.preprocessing import MinMaxScaler\n",
        "from sklearn.model_selection import train_test_split\n",
        "import tensorflow as tf\n",
        "from tensorflow import keras\n",
        "import warnings\n",
        "warnings.filterwarnings(\"ignore\")\n",
        "%matplotlib inline"
      ],
      "metadata": {
        "id": "i0OsrDMaQTmB"
      },
      "execution_count": null,
      "outputs": []
    },
    {
      "cell_type": "code",
      "source": [
        "Churn_Data=pd.read_csv('Telco-Customer-Churn.csv')"
      ],
      "metadata": {
        "id": "qre_ZQ6CQ_lg"
      },
      "execution_count": null,
      "outputs": []
    },
    {
      "cell_type": "code",
      "source": [
        "Churn_Data.sample(10)"
      ],
      "metadata": {
        "colab": {
          "base_uri": "https://localhost:8080/",
          "height": 629
        },
        "id": "NcCyInv_Ru6w",
        "outputId": "743acb27-5c03-4eab-f70f-d2b8419d7550"
      },
      "execution_count": null,
      "outputs": [
        {
          "output_type": "execute_result",
          "data": {
            "text/plain": [
              "      customerID  gender  SeniorCitizen Partner Dependents  tenure  \\\n",
              "6663  0674-EYYZV  Female              0      No         No       1   \n",
              "2361  5103-MHMHY  Female              0      No        Yes       1   \n",
              "6221  0042-JVWOJ    Male              0      No         No      26   \n",
              "5150  7017-VFULY  Female              0     Yes         No       2   \n",
              "6432  8221-EQDGL    Male              0     Yes         No      35   \n",
              "4708  5181-OABFK  Female              0     Yes        Yes      56   \n",
              "3099  5505-OVWQW  Female              0      No         No      17   \n",
              "374   6862-CQUMB    Male              0      No         No      37   \n",
              "3329  5366-OBVMR  Female              0     Yes         No      18   \n",
              "6086  0916-KNFAJ    Male              0     Yes         No      61   \n",
              "\n",
              "     PhoneService MultipleLines InternetService       OnlineSecurity  ...  \\\n",
              "6663          Yes            No             DSL                   No  ...   \n",
              "2361          Yes            No             DSL                   No  ...   \n",
              "6221          Yes            No              No  No internet service  ...   \n",
              "5150          Yes            No              No  No internet service  ...   \n",
              "6432          Yes            No             DSL                  Yes  ...   \n",
              "4708          Yes            No             DSL                  Yes  ...   \n",
              "3099          Yes            No              No  No internet service  ...   \n",
              "374           Yes            No     Fiber optic                   No  ...   \n",
              "3329          Yes            No             DSL                   No  ...   \n",
              "6086          Yes           Yes             DSL                  Yes  ...   \n",
              "\n",
              "         DeviceProtection          TechSupport          StreamingTV  \\\n",
              "6663                   No                   No                  Yes   \n",
              "2361                   No                   No                   No   \n",
              "6221  No internet service  No internet service  No internet service   \n",
              "5150  No internet service  No internet service  No internet service   \n",
              "6432                  Yes                   No                   No   \n",
              "4708                  Yes                   No                   No   \n",
              "3099  No internet service  No internet service  No internet service   \n",
              "374                    No                   No                  Yes   \n",
              "3329                   No                  Yes                   No   \n",
              "6086                  Yes                   No                   No   \n",
              "\n",
              "          StreamingMovies        Contract PaperlessBilling  \\\n",
              "6663                   No  Month-to-month              Yes   \n",
              "2361                   No  Month-to-month               No   \n",
              "6221  No internet service        One year              Yes   \n",
              "5150  No internet service  Month-to-month               No   \n",
              "6432                   No  Month-to-month               No   \n",
              "4708                   No        Two year              Yes   \n",
              "3099  No internet service        One year               No   \n",
              "374                   Yes  Month-to-month              Yes   \n",
              "3329                   No  Month-to-month              Yes   \n",
              "6086                  Yes        Two year              Yes   \n",
              "\n",
              "                  PaymentMethod MonthlyCharges  TotalCharges Churn  \n",
              "6663           Electronic check          54.65         54.65    No  \n",
              "2361               Mailed check          45.95         45.95   Yes  \n",
              "6221  Bank transfer (automatic)          19.60        471.85    No  \n",
              "5150  Bank transfer (automatic)          20.10         43.15    No  \n",
              "6432               Mailed check          61.00       2130.45    No  \n",
              "4708    Credit card (automatic)          61.30        3346.8    No  \n",
              "3099               Mailed check          20.15        353.65    No  \n",
              "374     Credit card (automatic)          96.10        3646.8    No  \n",
              "3329               Mailed check          50.30        908.75    No  \n",
              "6086               Mailed check          69.90        4226.7    No  \n",
              "\n",
              "[10 rows x 21 columns]"
            ],
            "text/html": [
              "\n",
              "  <div id=\"df-dea21abb-66b1-448c-9109-b72190bc7082\">\n",
              "    <div class=\"colab-df-container\">\n",
              "      <div>\n",
              "<style scoped>\n",
              "    .dataframe tbody tr th:only-of-type {\n",
              "        vertical-align: middle;\n",
              "    }\n",
              "\n",
              "    .dataframe tbody tr th {\n",
              "        vertical-align: top;\n",
              "    }\n",
              "\n",
              "    .dataframe thead th {\n",
              "        text-align: right;\n",
              "    }\n",
              "</style>\n",
              "<table border=\"1\" class=\"dataframe\">\n",
              "  <thead>\n",
              "    <tr style=\"text-align: right;\">\n",
              "      <th></th>\n",
              "      <th>customerID</th>\n",
              "      <th>gender</th>\n",
              "      <th>SeniorCitizen</th>\n",
              "      <th>Partner</th>\n",
              "      <th>Dependents</th>\n",
              "      <th>tenure</th>\n",
              "      <th>PhoneService</th>\n",
              "      <th>MultipleLines</th>\n",
              "      <th>InternetService</th>\n",
              "      <th>OnlineSecurity</th>\n",
              "      <th>...</th>\n",
              "      <th>DeviceProtection</th>\n",
              "      <th>TechSupport</th>\n",
              "      <th>StreamingTV</th>\n",
              "      <th>StreamingMovies</th>\n",
              "      <th>Contract</th>\n",
              "      <th>PaperlessBilling</th>\n",
              "      <th>PaymentMethod</th>\n",
              "      <th>MonthlyCharges</th>\n",
              "      <th>TotalCharges</th>\n",
              "      <th>Churn</th>\n",
              "    </tr>\n",
              "  </thead>\n",
              "  <tbody>\n",
              "    <tr>\n",
              "      <th>6663</th>\n",
              "      <td>0674-EYYZV</td>\n",
              "      <td>Female</td>\n",
              "      <td>0</td>\n",
              "      <td>No</td>\n",
              "      <td>No</td>\n",
              "      <td>1</td>\n",
              "      <td>Yes</td>\n",
              "      <td>No</td>\n",
              "      <td>DSL</td>\n",
              "      <td>No</td>\n",
              "      <td>...</td>\n",
              "      <td>No</td>\n",
              "      <td>No</td>\n",
              "      <td>Yes</td>\n",
              "      <td>No</td>\n",
              "      <td>Month-to-month</td>\n",
              "      <td>Yes</td>\n",
              "      <td>Electronic check</td>\n",
              "      <td>54.65</td>\n",
              "      <td>54.65</td>\n",
              "      <td>No</td>\n",
              "    </tr>\n",
              "    <tr>\n",
              "      <th>2361</th>\n",
              "      <td>5103-MHMHY</td>\n",
              "      <td>Female</td>\n",
              "      <td>0</td>\n",
              "      <td>No</td>\n",
              "      <td>Yes</td>\n",
              "      <td>1</td>\n",
              "      <td>Yes</td>\n",
              "      <td>No</td>\n",
              "      <td>DSL</td>\n",
              "      <td>No</td>\n",
              "      <td>...</td>\n",
              "      <td>No</td>\n",
              "      <td>No</td>\n",
              "      <td>No</td>\n",
              "      <td>No</td>\n",
              "      <td>Month-to-month</td>\n",
              "      <td>No</td>\n",
              "      <td>Mailed check</td>\n",
              "      <td>45.95</td>\n",
              "      <td>45.95</td>\n",
              "      <td>Yes</td>\n",
              "    </tr>\n",
              "    <tr>\n",
              "      <th>6221</th>\n",
              "      <td>0042-JVWOJ</td>\n",
              "      <td>Male</td>\n",
              "      <td>0</td>\n",
              "      <td>No</td>\n",
              "      <td>No</td>\n",
              "      <td>26</td>\n",
              "      <td>Yes</td>\n",
              "      <td>No</td>\n",
              "      <td>No</td>\n",
              "      <td>No internet service</td>\n",
              "      <td>...</td>\n",
              "      <td>No internet service</td>\n",
              "      <td>No internet service</td>\n",
              "      <td>No internet service</td>\n",
              "      <td>No internet service</td>\n",
              "      <td>One year</td>\n",
              "      <td>Yes</td>\n",
              "      <td>Bank transfer (automatic)</td>\n",
              "      <td>19.60</td>\n",
              "      <td>471.85</td>\n",
              "      <td>No</td>\n",
              "    </tr>\n",
              "    <tr>\n",
              "      <th>5150</th>\n",
              "      <td>7017-VFULY</td>\n",
              "      <td>Female</td>\n",
              "      <td>0</td>\n",
              "      <td>Yes</td>\n",
              "      <td>No</td>\n",
              "      <td>2</td>\n",
              "      <td>Yes</td>\n",
              "      <td>No</td>\n",
              "      <td>No</td>\n",
              "      <td>No internet service</td>\n",
              "      <td>...</td>\n",
              "      <td>No internet service</td>\n",
              "      <td>No internet service</td>\n",
              "      <td>No internet service</td>\n",
              "      <td>No internet service</td>\n",
              "      <td>Month-to-month</td>\n",
              "      <td>No</td>\n",
              "      <td>Bank transfer (automatic)</td>\n",
              "      <td>20.10</td>\n",
              "      <td>43.15</td>\n",
              "      <td>No</td>\n",
              "    </tr>\n",
              "    <tr>\n",
              "      <th>6432</th>\n",
              "      <td>8221-EQDGL</td>\n",
              "      <td>Male</td>\n",
              "      <td>0</td>\n",
              "      <td>Yes</td>\n",
              "      <td>No</td>\n",
              "      <td>35</td>\n",
              "      <td>Yes</td>\n",
              "      <td>No</td>\n",
              "      <td>DSL</td>\n",
              "      <td>Yes</td>\n",
              "      <td>...</td>\n",
              "      <td>Yes</td>\n",
              "      <td>No</td>\n",
              "      <td>No</td>\n",
              "      <td>No</td>\n",
              "      <td>Month-to-month</td>\n",
              "      <td>No</td>\n",
              "      <td>Mailed check</td>\n",
              "      <td>61.00</td>\n",
              "      <td>2130.45</td>\n",
              "      <td>No</td>\n",
              "    </tr>\n",
              "    <tr>\n",
              "      <th>4708</th>\n",
              "      <td>5181-OABFK</td>\n",
              "      <td>Female</td>\n",
              "      <td>0</td>\n",
              "      <td>Yes</td>\n",
              "      <td>Yes</td>\n",
              "      <td>56</td>\n",
              "      <td>Yes</td>\n",
              "      <td>No</td>\n",
              "      <td>DSL</td>\n",
              "      <td>Yes</td>\n",
              "      <td>...</td>\n",
              "      <td>Yes</td>\n",
              "      <td>No</td>\n",
              "      <td>No</td>\n",
              "      <td>No</td>\n",
              "      <td>Two year</td>\n",
              "      <td>Yes</td>\n",
              "      <td>Credit card (automatic)</td>\n",
              "      <td>61.30</td>\n",
              "      <td>3346.8</td>\n",
              "      <td>No</td>\n",
              "    </tr>\n",
              "    <tr>\n",
              "      <th>3099</th>\n",
              "      <td>5505-OVWQW</td>\n",
              "      <td>Female</td>\n",
              "      <td>0</td>\n",
              "      <td>No</td>\n",
              "      <td>No</td>\n",
              "      <td>17</td>\n",
              "      <td>Yes</td>\n",
              "      <td>No</td>\n",
              "      <td>No</td>\n",
              "      <td>No internet service</td>\n",
              "      <td>...</td>\n",
              "      <td>No internet service</td>\n",
              "      <td>No internet service</td>\n",
              "      <td>No internet service</td>\n",
              "      <td>No internet service</td>\n",
              "      <td>One year</td>\n",
              "      <td>No</td>\n",
              "      <td>Mailed check</td>\n",
              "      <td>20.15</td>\n",
              "      <td>353.65</td>\n",
              "      <td>No</td>\n",
              "    </tr>\n",
              "    <tr>\n",
              "      <th>374</th>\n",
              "      <td>6862-CQUMB</td>\n",
              "      <td>Male</td>\n",
              "      <td>0</td>\n",
              "      <td>No</td>\n",
              "      <td>No</td>\n",
              "      <td>37</td>\n",
              "      <td>Yes</td>\n",
              "      <td>No</td>\n",
              "      <td>Fiber optic</td>\n",
              "      <td>No</td>\n",
              "      <td>...</td>\n",
              "      <td>No</td>\n",
              "      <td>No</td>\n",
              "      <td>Yes</td>\n",
              "      <td>Yes</td>\n",
              "      <td>Month-to-month</td>\n",
              "      <td>Yes</td>\n",
              "      <td>Credit card (automatic)</td>\n",
              "      <td>96.10</td>\n",
              "      <td>3646.8</td>\n",
              "      <td>No</td>\n",
              "    </tr>\n",
              "    <tr>\n",
              "      <th>3329</th>\n",
              "      <td>5366-OBVMR</td>\n",
              "      <td>Female</td>\n",
              "      <td>0</td>\n",
              "      <td>Yes</td>\n",
              "      <td>No</td>\n",
              "      <td>18</td>\n",
              "      <td>Yes</td>\n",
              "      <td>No</td>\n",
              "      <td>DSL</td>\n",
              "      <td>No</td>\n",
              "      <td>...</td>\n",
              "      <td>No</td>\n",
              "      <td>Yes</td>\n",
              "      <td>No</td>\n",
              "      <td>No</td>\n",
              "      <td>Month-to-month</td>\n",
              "      <td>Yes</td>\n",
              "      <td>Mailed check</td>\n",
              "      <td>50.30</td>\n",
              "      <td>908.75</td>\n",
              "      <td>No</td>\n",
              "    </tr>\n",
              "    <tr>\n",
              "      <th>6086</th>\n",
              "      <td>0916-KNFAJ</td>\n",
              "      <td>Male</td>\n",
              "      <td>0</td>\n",
              "      <td>Yes</td>\n",
              "      <td>No</td>\n",
              "      <td>61</td>\n",
              "      <td>Yes</td>\n",
              "      <td>Yes</td>\n",
              "      <td>DSL</td>\n",
              "      <td>Yes</td>\n",
              "      <td>...</td>\n",
              "      <td>Yes</td>\n",
              "      <td>No</td>\n",
              "      <td>No</td>\n",
              "      <td>Yes</td>\n",
              "      <td>Two year</td>\n",
              "      <td>Yes</td>\n",
              "      <td>Mailed check</td>\n",
              "      <td>69.90</td>\n",
              "      <td>4226.7</td>\n",
              "      <td>No</td>\n",
              "    </tr>\n",
              "  </tbody>\n",
              "</table>\n",
              "<p>10 rows × 21 columns</p>\n",
              "</div>\n",
              "      <button class=\"colab-df-convert\" onclick=\"convertToInteractive('df-dea21abb-66b1-448c-9109-b72190bc7082')\"\n",
              "              title=\"Convert this dataframe to an interactive table.\"\n",
              "              style=\"display:none;\">\n",
              "        \n",
              "  <svg xmlns=\"http://www.w3.org/2000/svg\" height=\"24px\"viewBox=\"0 0 24 24\"\n",
              "       width=\"24px\">\n",
              "    <path d=\"M0 0h24v24H0V0z\" fill=\"none\"/>\n",
              "    <path d=\"M18.56 5.44l.94 2.06.94-2.06 2.06-.94-2.06-.94-.94-2.06-.94 2.06-2.06.94zm-11 1L8.5 8.5l.94-2.06 2.06-.94-2.06-.94L8.5 2.5l-.94 2.06-2.06.94zm10 10l.94 2.06.94-2.06 2.06-.94-2.06-.94-.94-2.06-.94 2.06-2.06.94z\"/><path d=\"M17.41 7.96l-1.37-1.37c-.4-.4-.92-.59-1.43-.59-.52 0-1.04.2-1.43.59L10.3 9.45l-7.72 7.72c-.78.78-.78 2.05 0 2.83L4 21.41c.39.39.9.59 1.41.59.51 0 1.02-.2 1.41-.59l7.78-7.78 2.81-2.81c.8-.78.8-2.07 0-2.86zM5.41 20L4 18.59l7.72-7.72 1.47 1.35L5.41 20z\"/>\n",
              "  </svg>\n",
              "      </button>\n",
              "      \n",
              "  <style>\n",
              "    .colab-df-container {\n",
              "      display:flex;\n",
              "      flex-wrap:wrap;\n",
              "      gap: 12px;\n",
              "    }\n",
              "\n",
              "    .colab-df-convert {\n",
              "      background-color: #E8F0FE;\n",
              "      border: none;\n",
              "      border-radius: 50%;\n",
              "      cursor: pointer;\n",
              "      display: none;\n",
              "      fill: #1967D2;\n",
              "      height: 32px;\n",
              "      padding: 0 0 0 0;\n",
              "      width: 32px;\n",
              "    }\n",
              "\n",
              "    .colab-df-convert:hover {\n",
              "      background-color: #E2EBFA;\n",
              "      box-shadow: 0px 1px 2px rgba(60, 64, 67, 0.3), 0px 1px 3px 1px rgba(60, 64, 67, 0.15);\n",
              "      fill: #174EA6;\n",
              "    }\n",
              "\n",
              "    [theme=dark] .colab-df-convert {\n",
              "      background-color: #3B4455;\n",
              "      fill: #D2E3FC;\n",
              "    }\n",
              "\n",
              "    [theme=dark] .colab-df-convert:hover {\n",
              "      background-color: #434B5C;\n",
              "      box-shadow: 0px 1px 3px 1px rgba(0, 0, 0, 0.15);\n",
              "      filter: drop-shadow(0px 1px 2px rgba(0, 0, 0, 0.3));\n",
              "      fill: #FFFFFF;\n",
              "    }\n",
              "  </style>\n",
              "\n",
              "      <script>\n",
              "        const buttonEl =\n",
              "          document.querySelector('#df-dea21abb-66b1-448c-9109-b72190bc7082 button.colab-df-convert');\n",
              "        buttonEl.style.display =\n",
              "          google.colab.kernel.accessAllowed ? 'block' : 'none';\n",
              "\n",
              "        async function convertToInteractive(key) {\n",
              "          const element = document.querySelector('#df-dea21abb-66b1-448c-9109-b72190bc7082');\n",
              "          const dataTable =\n",
              "            await google.colab.kernel.invokeFunction('convertToInteractive',\n",
              "                                                     [key], {});\n",
              "          if (!dataTable) return;\n",
              "\n",
              "          const docLinkHtml = 'Like what you see? Visit the ' +\n",
              "            '<a target=\"_blank\" href=https://colab.research.google.com/notebooks/data_table.ipynb>data table notebook</a>'\n",
              "            + ' to learn more about interactive tables.';\n",
              "          element.innerHTML = '';\n",
              "          dataTable['output_type'] = 'display_data';\n",
              "          await google.colab.output.renderOutput(dataTable, element);\n",
              "          const docLink = document.createElement('div');\n",
              "          docLink.innerHTML = docLinkHtml;\n",
              "          element.appendChild(docLink);\n",
              "        }\n",
              "      </script>\n",
              "    </div>\n",
              "  </div>\n",
              "  "
            ]
          },
          "metadata": {},
          "execution_count": 4
        }
      ]
    },
    {
      "cell_type": "code",
      "source": [
        "Churn_Data.drop('customerID',axis=1,inplace=True)"
      ],
      "metadata": {
        "id": "nvysDSF-R5_t"
      },
      "execution_count": null,
      "outputs": []
    },
    {
      "cell_type": "code",
      "source": [
        "Churn_Data.sample(8)"
      ],
      "metadata": {
        "colab": {
          "base_uri": "https://localhost:8080/",
          "height": 485
        },
        "id": "mZ8g-VPqSJpy",
        "outputId": "79b3ee96-2b96-4538-a40f-7831e697b606"
      },
      "execution_count": null,
      "outputs": [
        {
          "output_type": "execute_result",
          "data": {
            "text/plain": [
              "      gender  SeniorCitizen Partner Dependents  tenure PhoneService  \\\n",
              "6703  Female              0      No         No       2           No   \n",
              "6483    Male              0     Yes        Yes      13          Yes   \n",
              "621   Female              0      No         No      62          Yes   \n",
              "1023  Female              1     Yes         No      45          Yes   \n",
              "4269    Male              0     Yes         No      17          Yes   \n",
              "6668  Female              0      No         No      38          Yes   \n",
              "5453    Male              0     Yes         No      60          Yes   \n",
              "2688    Male              0     Yes         No       5          Yes   \n",
              "\n",
              "         MultipleLines InternetService OnlineSecurity OnlineBackup  \\\n",
              "6703  No phone service             DSL             No           No   \n",
              "6483                No     Fiber optic             No           No   \n",
              "621                Yes     Fiber optic            Yes          Yes   \n",
              "1023                No     Fiber optic             No           No   \n",
              "4269               Yes     Fiber optic            Yes          Yes   \n",
              "6668               Yes     Fiber optic             No           No   \n",
              "5453                No             DSL            Yes          Yes   \n",
              "2688               Yes     Fiber optic             No          Yes   \n",
              "\n",
              "     DeviceProtection TechSupport StreamingTV StreamingMovies        Contract  \\\n",
              "6703               No          No         Yes             Yes  Month-to-month   \n",
              "6483              Yes          No         Yes             Yes  Month-to-month   \n",
              "621               Yes          No          No              No        One year   \n",
              "1023              Yes          No          No             Yes  Month-to-month   \n",
              "4269              Yes          No          No              No  Month-to-month   \n",
              "6668              Yes         Yes         Yes             Yes  Month-to-month   \n",
              "5453               No         Yes          No              No        Two year   \n",
              "2688               No          No          No              No  Month-to-month   \n",
              "\n",
              "     PaperlessBilling            PaymentMethod  MonthlyCharges TotalCharges  \\\n",
              "6703              Yes         Electronic check           45.25         85.5   \n",
              "6483               No         Electronic check           97.00      1334.45   \n",
              "621               Yes         Electronic check           92.05       5755.8   \n",
              "1023              Yes         Electronic check           86.10      3861.45   \n",
              "4269               No  Credit card (automatic)           90.20      1454.15   \n",
              "6668              Yes         Electronic check          103.65       3988.5   \n",
              "5453              Yes             Mailed check           61.35       3766.2   \n",
              "2688              Yes         Electronic check           78.75        412.1   \n",
              "\n",
              "     Churn  \n",
              "6703   Yes  \n",
              "6483    No  \n",
              "621     No  \n",
              "1023    No  \n",
              "4269   Yes  \n",
              "6668    No  \n",
              "5453    No  \n",
              "2688   Yes  "
            ],
            "text/html": [
              "\n",
              "  <div id=\"df-8f85c9cb-8653-475e-8a91-81a0a3f2f9e5\">\n",
              "    <div class=\"colab-df-container\">\n",
              "      <div>\n",
              "<style scoped>\n",
              "    .dataframe tbody tr th:only-of-type {\n",
              "        vertical-align: middle;\n",
              "    }\n",
              "\n",
              "    .dataframe tbody tr th {\n",
              "        vertical-align: top;\n",
              "    }\n",
              "\n",
              "    .dataframe thead th {\n",
              "        text-align: right;\n",
              "    }\n",
              "</style>\n",
              "<table border=\"1\" class=\"dataframe\">\n",
              "  <thead>\n",
              "    <tr style=\"text-align: right;\">\n",
              "      <th></th>\n",
              "      <th>gender</th>\n",
              "      <th>SeniorCitizen</th>\n",
              "      <th>Partner</th>\n",
              "      <th>Dependents</th>\n",
              "      <th>tenure</th>\n",
              "      <th>PhoneService</th>\n",
              "      <th>MultipleLines</th>\n",
              "      <th>InternetService</th>\n",
              "      <th>OnlineSecurity</th>\n",
              "      <th>OnlineBackup</th>\n",
              "      <th>DeviceProtection</th>\n",
              "      <th>TechSupport</th>\n",
              "      <th>StreamingTV</th>\n",
              "      <th>StreamingMovies</th>\n",
              "      <th>Contract</th>\n",
              "      <th>PaperlessBilling</th>\n",
              "      <th>PaymentMethod</th>\n",
              "      <th>MonthlyCharges</th>\n",
              "      <th>TotalCharges</th>\n",
              "      <th>Churn</th>\n",
              "    </tr>\n",
              "  </thead>\n",
              "  <tbody>\n",
              "    <tr>\n",
              "      <th>6703</th>\n",
              "      <td>Female</td>\n",
              "      <td>0</td>\n",
              "      <td>No</td>\n",
              "      <td>No</td>\n",
              "      <td>2</td>\n",
              "      <td>No</td>\n",
              "      <td>No phone service</td>\n",
              "      <td>DSL</td>\n",
              "      <td>No</td>\n",
              "      <td>No</td>\n",
              "      <td>No</td>\n",
              "      <td>No</td>\n",
              "      <td>Yes</td>\n",
              "      <td>Yes</td>\n",
              "      <td>Month-to-month</td>\n",
              "      <td>Yes</td>\n",
              "      <td>Electronic check</td>\n",
              "      <td>45.25</td>\n",
              "      <td>85.5</td>\n",
              "      <td>Yes</td>\n",
              "    </tr>\n",
              "    <tr>\n",
              "      <th>6483</th>\n",
              "      <td>Male</td>\n",
              "      <td>0</td>\n",
              "      <td>Yes</td>\n",
              "      <td>Yes</td>\n",
              "      <td>13</td>\n",
              "      <td>Yes</td>\n",
              "      <td>No</td>\n",
              "      <td>Fiber optic</td>\n",
              "      <td>No</td>\n",
              "      <td>No</td>\n",
              "      <td>Yes</td>\n",
              "      <td>No</td>\n",
              "      <td>Yes</td>\n",
              "      <td>Yes</td>\n",
              "      <td>Month-to-month</td>\n",
              "      <td>No</td>\n",
              "      <td>Electronic check</td>\n",
              "      <td>97.00</td>\n",
              "      <td>1334.45</td>\n",
              "      <td>No</td>\n",
              "    </tr>\n",
              "    <tr>\n",
              "      <th>621</th>\n",
              "      <td>Female</td>\n",
              "      <td>0</td>\n",
              "      <td>No</td>\n",
              "      <td>No</td>\n",
              "      <td>62</td>\n",
              "      <td>Yes</td>\n",
              "      <td>Yes</td>\n",
              "      <td>Fiber optic</td>\n",
              "      <td>Yes</td>\n",
              "      <td>Yes</td>\n",
              "      <td>Yes</td>\n",
              "      <td>No</td>\n",
              "      <td>No</td>\n",
              "      <td>No</td>\n",
              "      <td>One year</td>\n",
              "      <td>Yes</td>\n",
              "      <td>Electronic check</td>\n",
              "      <td>92.05</td>\n",
              "      <td>5755.8</td>\n",
              "      <td>No</td>\n",
              "    </tr>\n",
              "    <tr>\n",
              "      <th>1023</th>\n",
              "      <td>Female</td>\n",
              "      <td>1</td>\n",
              "      <td>Yes</td>\n",
              "      <td>No</td>\n",
              "      <td>45</td>\n",
              "      <td>Yes</td>\n",
              "      <td>No</td>\n",
              "      <td>Fiber optic</td>\n",
              "      <td>No</td>\n",
              "      <td>No</td>\n",
              "      <td>Yes</td>\n",
              "      <td>No</td>\n",
              "      <td>No</td>\n",
              "      <td>Yes</td>\n",
              "      <td>Month-to-month</td>\n",
              "      <td>Yes</td>\n",
              "      <td>Electronic check</td>\n",
              "      <td>86.10</td>\n",
              "      <td>3861.45</td>\n",
              "      <td>No</td>\n",
              "    </tr>\n",
              "    <tr>\n",
              "      <th>4269</th>\n",
              "      <td>Male</td>\n",
              "      <td>0</td>\n",
              "      <td>Yes</td>\n",
              "      <td>No</td>\n",
              "      <td>17</td>\n",
              "      <td>Yes</td>\n",
              "      <td>Yes</td>\n",
              "      <td>Fiber optic</td>\n",
              "      <td>Yes</td>\n",
              "      <td>Yes</td>\n",
              "      <td>Yes</td>\n",
              "      <td>No</td>\n",
              "      <td>No</td>\n",
              "      <td>No</td>\n",
              "      <td>Month-to-month</td>\n",
              "      <td>No</td>\n",
              "      <td>Credit card (automatic)</td>\n",
              "      <td>90.20</td>\n",
              "      <td>1454.15</td>\n",
              "      <td>Yes</td>\n",
              "    </tr>\n",
              "    <tr>\n",
              "      <th>6668</th>\n",
              "      <td>Female</td>\n",
              "      <td>0</td>\n",
              "      <td>No</td>\n",
              "      <td>No</td>\n",
              "      <td>38</td>\n",
              "      <td>Yes</td>\n",
              "      <td>Yes</td>\n",
              "      <td>Fiber optic</td>\n",
              "      <td>No</td>\n",
              "      <td>No</td>\n",
              "      <td>Yes</td>\n",
              "      <td>Yes</td>\n",
              "      <td>Yes</td>\n",
              "      <td>Yes</td>\n",
              "      <td>Month-to-month</td>\n",
              "      <td>Yes</td>\n",
              "      <td>Electronic check</td>\n",
              "      <td>103.65</td>\n",
              "      <td>3988.5</td>\n",
              "      <td>No</td>\n",
              "    </tr>\n",
              "    <tr>\n",
              "      <th>5453</th>\n",
              "      <td>Male</td>\n",
              "      <td>0</td>\n",
              "      <td>Yes</td>\n",
              "      <td>No</td>\n",
              "      <td>60</td>\n",
              "      <td>Yes</td>\n",
              "      <td>No</td>\n",
              "      <td>DSL</td>\n",
              "      <td>Yes</td>\n",
              "      <td>Yes</td>\n",
              "      <td>No</td>\n",
              "      <td>Yes</td>\n",
              "      <td>No</td>\n",
              "      <td>No</td>\n",
              "      <td>Two year</td>\n",
              "      <td>Yes</td>\n",
              "      <td>Mailed check</td>\n",
              "      <td>61.35</td>\n",
              "      <td>3766.2</td>\n",
              "      <td>No</td>\n",
              "    </tr>\n",
              "    <tr>\n",
              "      <th>2688</th>\n",
              "      <td>Male</td>\n",
              "      <td>0</td>\n",
              "      <td>Yes</td>\n",
              "      <td>No</td>\n",
              "      <td>5</td>\n",
              "      <td>Yes</td>\n",
              "      <td>Yes</td>\n",
              "      <td>Fiber optic</td>\n",
              "      <td>No</td>\n",
              "      <td>Yes</td>\n",
              "      <td>No</td>\n",
              "      <td>No</td>\n",
              "      <td>No</td>\n",
              "      <td>No</td>\n",
              "      <td>Month-to-month</td>\n",
              "      <td>Yes</td>\n",
              "      <td>Electronic check</td>\n",
              "      <td>78.75</td>\n",
              "      <td>412.1</td>\n",
              "      <td>Yes</td>\n",
              "    </tr>\n",
              "  </tbody>\n",
              "</table>\n",
              "</div>\n",
              "      <button class=\"colab-df-convert\" onclick=\"convertToInteractive('df-8f85c9cb-8653-475e-8a91-81a0a3f2f9e5')\"\n",
              "              title=\"Convert this dataframe to an interactive table.\"\n",
              "              style=\"display:none;\">\n",
              "        \n",
              "  <svg xmlns=\"http://www.w3.org/2000/svg\" height=\"24px\"viewBox=\"0 0 24 24\"\n",
              "       width=\"24px\">\n",
              "    <path d=\"M0 0h24v24H0V0z\" fill=\"none\"/>\n",
              "    <path d=\"M18.56 5.44l.94 2.06.94-2.06 2.06-.94-2.06-.94-.94-2.06-.94 2.06-2.06.94zm-11 1L8.5 8.5l.94-2.06 2.06-.94-2.06-.94L8.5 2.5l-.94 2.06-2.06.94zm10 10l.94 2.06.94-2.06 2.06-.94-2.06-.94-.94-2.06-.94 2.06-2.06.94z\"/><path d=\"M17.41 7.96l-1.37-1.37c-.4-.4-.92-.59-1.43-.59-.52 0-1.04.2-1.43.59L10.3 9.45l-7.72 7.72c-.78.78-.78 2.05 0 2.83L4 21.41c.39.39.9.59 1.41.59.51 0 1.02-.2 1.41-.59l7.78-7.78 2.81-2.81c.8-.78.8-2.07 0-2.86zM5.41 20L4 18.59l7.72-7.72 1.47 1.35L5.41 20z\"/>\n",
              "  </svg>\n",
              "      </button>\n",
              "      \n",
              "  <style>\n",
              "    .colab-df-container {\n",
              "      display:flex;\n",
              "      flex-wrap:wrap;\n",
              "      gap: 12px;\n",
              "    }\n",
              "\n",
              "    .colab-df-convert {\n",
              "      background-color: #E8F0FE;\n",
              "      border: none;\n",
              "      border-radius: 50%;\n",
              "      cursor: pointer;\n",
              "      display: none;\n",
              "      fill: #1967D2;\n",
              "      height: 32px;\n",
              "      padding: 0 0 0 0;\n",
              "      width: 32px;\n",
              "    }\n",
              "\n",
              "    .colab-df-convert:hover {\n",
              "      background-color: #E2EBFA;\n",
              "      box-shadow: 0px 1px 2px rgba(60, 64, 67, 0.3), 0px 1px 3px 1px rgba(60, 64, 67, 0.15);\n",
              "      fill: #174EA6;\n",
              "    }\n",
              "\n",
              "    [theme=dark] .colab-df-convert {\n",
              "      background-color: #3B4455;\n",
              "      fill: #D2E3FC;\n",
              "    }\n",
              "\n",
              "    [theme=dark] .colab-df-convert:hover {\n",
              "      background-color: #434B5C;\n",
              "      box-shadow: 0px 1px 3px 1px rgba(0, 0, 0, 0.15);\n",
              "      filter: drop-shadow(0px 1px 2px rgba(0, 0, 0, 0.3));\n",
              "      fill: #FFFFFF;\n",
              "    }\n",
              "  </style>\n",
              "\n",
              "      <script>\n",
              "        const buttonEl =\n",
              "          document.querySelector('#df-8f85c9cb-8653-475e-8a91-81a0a3f2f9e5 button.colab-df-convert');\n",
              "        buttonEl.style.display =\n",
              "          google.colab.kernel.accessAllowed ? 'block' : 'none';\n",
              "\n",
              "        async function convertToInteractive(key) {\n",
              "          const element = document.querySelector('#df-8f85c9cb-8653-475e-8a91-81a0a3f2f9e5');\n",
              "          const dataTable =\n",
              "            await google.colab.kernel.invokeFunction('convertToInteractive',\n",
              "                                                     [key], {});\n",
              "          if (!dataTable) return;\n",
              "\n",
              "          const docLinkHtml = 'Like what you see? Visit the ' +\n",
              "            '<a target=\"_blank\" href=https://colab.research.google.com/notebooks/data_table.ipynb>data table notebook</a>'\n",
              "            + ' to learn more about interactive tables.';\n",
              "          element.innerHTML = '';\n",
              "          dataTable['output_type'] = 'display_data';\n",
              "          await google.colab.output.renderOutput(dataTable, element);\n",
              "          const docLink = document.createElement('div');\n",
              "          docLink.innerHTML = docLinkHtml;\n",
              "          element.appendChild(docLink);\n",
              "        }\n",
              "      </script>\n",
              "    </div>\n",
              "  </div>\n",
              "  "
            ]
          },
          "metadata": {},
          "execution_count": 6
        }
      ]
    },
    {
      "cell_type": "code",
      "source": [
        "Churn_Data.dtypes"
      ],
      "metadata": {
        "colab": {
          "base_uri": "https://localhost:8080/"
        },
        "id": "RJ1Cf_3wSMy1",
        "outputId": "23538f13-4b3f-42be-bab4-97bfd0db6f2e"
      },
      "execution_count": null,
      "outputs": [
        {
          "output_type": "execute_result",
          "data": {
            "text/plain": [
              "gender               object\n",
              "SeniorCitizen         int64\n",
              "Partner              object\n",
              "Dependents           object\n",
              "tenure                int64\n",
              "PhoneService         object\n",
              "MultipleLines        object\n",
              "InternetService      object\n",
              "OnlineSecurity       object\n",
              "OnlineBackup         object\n",
              "DeviceProtection     object\n",
              "TechSupport          object\n",
              "StreamingTV          object\n",
              "StreamingMovies      object\n",
              "Contract             object\n",
              "PaperlessBilling     object\n",
              "PaymentMethod        object\n",
              "MonthlyCharges      float64\n",
              "TotalCharges         object\n",
              "Churn                object\n",
              "dtype: object"
            ]
          },
          "metadata": {},
          "execution_count": 7
        }
      ]
    },
    {
      "cell_type": "code",
      "source": [
        "#Convert 'Total Charges' column from object to numerical\n",
        "Churn_Data['Totalcharges']=pd.to_numeric(Churn_Data['TotalCharges'],errors='coerce')\n",
        "print(Churn_Data.dtypes)"
      ],
      "metadata": {
        "colab": {
          "base_uri": "https://localhost:8080/"
        },
        "id": "82zU294lSQaI",
        "outputId": "414da6c9-6fa7-4737-f7d1-b188e5743d7a"
      },
      "execution_count": null,
      "outputs": [
        {
          "output_type": "stream",
          "name": "stdout",
          "text": [
            "gender               object\n",
            "SeniorCitizen         int64\n",
            "Partner              object\n",
            "Dependents           object\n",
            "tenure                int64\n",
            "PhoneService         object\n",
            "MultipleLines        object\n",
            "InternetService      object\n",
            "OnlineSecurity       object\n",
            "OnlineBackup         object\n",
            "DeviceProtection     object\n",
            "TechSupport          object\n",
            "StreamingTV          object\n",
            "StreamingMovies      object\n",
            "Contract             object\n",
            "PaperlessBilling     object\n",
            "PaymentMethod        object\n",
            "MonthlyCharges      float64\n",
            "TotalCharges         object\n",
            "Churn                object\n",
            "Totalcharges        float64\n",
            "dtype: object\n"
          ]
        }
      ]
    },
    {
      "cell_type": "code",
      "source": [
        "Churn_Data.shape"
      ],
      "metadata": {
        "colab": {
          "base_uri": "https://localhost:8080/"
        },
        "id": "hE5ZUYfzS0m_",
        "outputId": "56c5153f-f3db-41c9-fff8-cae0ca3e72e2"
      },
      "execution_count": null,
      "outputs": [
        {
          "output_type": "execute_result",
          "data": {
            "text/plain": [
              "(7043, 21)"
            ]
          },
          "metadata": {},
          "execution_count": 9
        }
      ]
    },
    {
      "cell_type": "code",
      "source": [
        "Churn_Data.drop_duplicates()\n",
        "Churn_Data.shape"
      ],
      "metadata": {
        "colab": {
          "base_uri": "https://localhost:8080/"
        },
        "id": "OQJ1FYitS7Oo",
        "outputId": "9b8dfc4a-bc99-46ac-c8f3-bde0cd1cd174"
      },
      "execution_count": null,
      "outputs": [
        {
          "output_type": "execute_result",
          "data": {
            "text/plain": [
              "(7043, 21)"
            ]
          },
          "metadata": {},
          "execution_count": 10
        }
      ]
    },
    {
      "cell_type": "code",
      "source": [
        "Churn_Data.isnull().sum()"
      ],
      "metadata": {
        "colab": {
          "base_uri": "https://localhost:8080/"
        },
        "id": "0a1ad-yyTDy9",
        "outputId": "7266fee5-d73f-4ba6-9dd0-532bfe3c49b3"
      },
      "execution_count": null,
      "outputs": [
        {
          "output_type": "execute_result",
          "data": {
            "text/plain": [
              "gender               0\n",
              "SeniorCitizen        0\n",
              "Partner              0\n",
              "Dependents           0\n",
              "tenure               0\n",
              "PhoneService         0\n",
              "MultipleLines        0\n",
              "InternetService      0\n",
              "OnlineSecurity       0\n",
              "OnlineBackup         0\n",
              "DeviceProtection     0\n",
              "TechSupport          0\n",
              "StreamingTV          0\n",
              "StreamingMovies      0\n",
              "Contract             0\n",
              "PaperlessBilling     0\n",
              "PaymentMethod        0\n",
              "MonthlyCharges       0\n",
              "TotalCharges         0\n",
              "Churn                0\n",
              "Totalcharges        11\n",
              "dtype: int64"
            ]
          },
          "metadata": {},
          "execution_count": 11
        }
      ]
    },
    {
      "cell_type": "code",
      "source": [
        "# Replace empty strings or whitespace with NaN\n",
        "Churn_Data['TotalCharges'].replace('', np.nan, inplace=True)\n",
        "Churn_Data['TotalCharges'].replace(' ', np.nan, inplace=True)\n",
        "\n",
        "# Drop rows with null values in the 'TotalCharges' column\n",
        "Churn_Data.dropna(subset=['TotalCharges'], inplace=True)\n",
        "\n",
        "print(Churn_Data.isnull().sum())"
      ],
      "metadata": {
        "colab": {
          "base_uri": "https://localhost:8080/"
        },
        "id": "XHhe9xl6TrQD",
        "outputId": "03b3af19-dc94-42c7-9ac0-3d2f1a2694ac"
      },
      "execution_count": null,
      "outputs": [
        {
          "output_type": "stream",
          "name": "stdout",
          "text": [
            "gender              0\n",
            "SeniorCitizen       0\n",
            "Partner             0\n",
            "Dependents          0\n",
            "tenure              0\n",
            "PhoneService        0\n",
            "MultipleLines       0\n",
            "InternetService     0\n",
            "OnlineSecurity      0\n",
            "OnlineBackup        0\n",
            "DeviceProtection    0\n",
            "TechSupport         0\n",
            "StreamingTV         0\n",
            "StreamingMovies     0\n",
            "Contract            0\n",
            "PaperlessBilling    0\n",
            "PaymentMethod       0\n",
            "MonthlyCharges      0\n",
            "TotalCharges        0\n",
            "Churn               0\n",
            "Totalcharges        0\n",
            "dtype: int64\n"
          ]
        }
      ]
    },
    {
      "cell_type": "code",
      "source": [
        "Churn_Data.dropna(inplace=True)\n",
        "\n",
        "print(Churn_Data.isnull().sum())"
      ],
      "metadata": {
        "colab": {
          "base_uri": "https://localhost:8080/"
        },
        "id": "d52_1NyvUjEc",
        "outputId": "d0e6cb33-ff49-40dc-f03c-1eeae9fd11fb"
      },
      "execution_count": null,
      "outputs": [
        {
          "output_type": "stream",
          "name": "stdout",
          "text": [
            "gender              0\n",
            "SeniorCitizen       0\n",
            "Partner             0\n",
            "Dependents          0\n",
            "tenure              0\n",
            "PhoneService        0\n",
            "MultipleLines       0\n",
            "InternetService     0\n",
            "OnlineSecurity      0\n",
            "OnlineBackup        0\n",
            "DeviceProtection    0\n",
            "TechSupport         0\n",
            "StreamingTV         0\n",
            "StreamingMovies     0\n",
            "Contract            0\n",
            "PaperlessBilling    0\n",
            "PaymentMethod       0\n",
            "MonthlyCharges      0\n",
            "TotalCharges        0\n",
            "Churn               0\n",
            "Totalcharges        0\n",
            "dtype: int64\n"
          ]
        }
      ]
    },
    {
      "cell_type": "code",
      "source": [
        "Churn_Data.shape"
      ],
      "metadata": {
        "colab": {
          "base_uri": "https://localhost:8080/"
        },
        "id": "ERwVxPwmUm0v",
        "outputId": "d3ff0f82-5875-4679-f644-c9ec2e42a990"
      },
      "execution_count": null,
      "outputs": [
        {
          "output_type": "execute_result",
          "data": {
            "text/plain": [
              "(7032, 21)"
            ]
          },
          "metadata": {},
          "execution_count": 14
        }
      ]
    },
    {
      "cell_type": "markdown",
      "source": [
        "#**EDA**"
      ],
      "metadata": {
        "id": "EEuD0EZDU5YQ"
      }
    },
    {
      "cell_type": "code",
      "source": [
        "tenure_churn_no=Churn_Data[Churn_Data.Churn=='No'].tenure\n",
        "tenure_churn_yes=Churn_Data[Churn_Data.Churn=='Yes'].tenure\n",
        "plt.hist([tenure_churn_yes,tenure_churn_no],label=['Churn=Yes','Churn=No'])\n",
        "plt.legend()\n",
        "plt.xlabel('Tenure')\n",
        "plt.ylabel('No. of customers')\n",
        "plt.title ('Customer churn Prediction visualization')"
      ],
      "metadata": {
        "colab": {
          "base_uri": "https://localhost:8080/",
          "height": 489
        },
        "id": "7knpFjODU3Om",
        "outputId": "9391721c-0611-4b75-ff5a-b73276c87c5a"
      },
      "execution_count": null,
      "outputs": [
        {
          "output_type": "execute_result",
          "data": {
            "text/plain": [
              "Text(0.5, 1.0, 'Customer churn Prediction visualization')"
            ]
          },
          "metadata": {},
          "execution_count": 15
        },
        {
          "output_type": "display_data",
          "data": {
            "text/plain": [
              "<Figure size 640x480 with 1 Axes>"
            ],
            "image/png": "[encoded data removed]"
          },
          "metadata": {}
        }
      ]
    },
    {
      "cell_type": "code",
      "source": [
        "monthly_charges_no=Churn_Data[Churn_Data.Churn=='No'].MonthlyCharges\n",
        "monthly_charges_yes=Churn_Data[Churn_Data.Churn=='Yes'].MonthlyCharges\n",
        "plt.hist([monthly_charges_yes,monthly_charges_no],\n",
        "         label=['Churn==Yes','Churn==No'])\n",
        "plt.legend()\n",
        "plt.xlabel('Monthly Charges')\n",
        "plt.ylabel('No. of Customers')\n",
        "plt.title('Customer Churn Prediction Visualization')"
      ],
      "metadata": {
        "colab": {
          "base_uri": "https://localhost:8080/",
          "height": 489
        },
        "id": "ML1wDp7eWKzS",
        "outputId": "6cdb3ec7-6571-48a3-fc28-fcecf4ebd317"
      },
      "execution_count": null,
      "outputs": [
        {
          "output_type": "execute_result",
          "data": {
            "text/plain": [
              "Text(0.5, 1.0, 'Customer Churn Prediction Visualization')"
            ]
          },
          "metadata": {},
          "execution_count": 16
        },
        {
          "output_type": "display_data",
          "data": {
            "text/plain": [
              "<Figure size 640x480 with 1 Axes>"
            ],
            "image/png": "[encoded data removed]"
          },
          "metadata": {}
        }
      ]
    },
    {
      "cell_type": "code",
      "source": [
        "Total_Charges_no=Churn_Data[Churn_Data.Churn=='No'].TotalCharges\n",
        "Total_Charges_yes=Churn_Data[Churn_Data.Churn=='Yes'].TotalCharges\n",
        "plt.hist([Total_Charges_yes,Total_Charges_no],label=['Churn=Yes','Churn=No'])\n",
        "plt.legend()\n",
        "plt.xlabel('Total Charges')\n",
        "plt.ylabel('No. of Customers')\n",
        "plt.title('Customer Churn Prediction Visualization')"
      ],
      "metadata": {
        "colab": {
          "base_uri": "https://localhost:8080/",
          "height": 489
        },
        "id": "y9YAEqyKXTU3",
        "outputId": "b03cd271-84af-4465-e215-c43b359063f5"
      },
      "execution_count": null,
      "outputs": [
        {
          "output_type": "execute_result",
          "data": {
            "text/plain": [
              "Text(0.5, 1.0, 'Customer Churn Prediction Visualization')"
            ]
          },
          "metadata": {},
          "execution_count": 17
        },
        {
          "output_type": "display_data",
          "data": {
            "text/plain": [
              "<Figure size 640x480 with 1 Axes>"
            ],
            "image/png": "[encoded data removed]"
          },
          "metadata": {}
        }
      ]
    },
    {
      "cell_type": "code",
      "source": [
        "Churn_Data.nunique()"
      ],
      "metadata": {
        "colab": {
          "base_uri": "https://localhost:8080/"
        },
        "id": "K6pVBNGIYcVJ",
        "outputId": "673b4a3e-20c8-4cb7-cd2c-fa7899c635df"
      },
      "execution_count": null,
      "outputs": [
        {
          "output_type": "execute_result",
          "data": {
            "text/plain": [
              "gender                 2\n",
              "SeniorCitizen          2\n",
              "Partner                2\n",
              "Dependents             2\n",
              "tenure                72\n",
              "PhoneService           2\n",
              "MultipleLines          3\n",
              "InternetService        3\n",
              "OnlineSecurity         3\n",
              "OnlineBackup           3\n",
              "DeviceProtection       3\n",
              "TechSupport            3\n",
              "StreamingTV            3\n",
              "StreamingMovies        3\n",
              "Contract               3\n",
              "PaperlessBilling       2\n",
              "PaymentMethod          4\n",
              "MonthlyCharges      1584\n",
              "TotalCharges        6530\n",
              "Churn                  2\n",
              "Totalcharges        6530\n",
              "dtype: int64"
            ]
          },
          "metadata": {},
          "execution_count": 18
        }
      ]
    },
    {
      "cell_type": "code",
      "source": [
        "Churn_Data.replace('No phone service','No',inplace=True)\n",
        "Churn_Data.replace('No internet service','No',inplace=True)\n",
        "Churn_Data.columns"
      ],
      "metadata": {
        "colab": {
          "base_uri": "https://localhost:8080/"
        },
        "id": "ISs3BhRgYgXe",
        "outputId": "0bd06c7b-b6ed-48f7-d41e-984b08b062d8"
      },
      "execution_count": null,
      "outputs": [
        {
          "output_type": "execute_result",
          "data": {
            "text/plain": [
              "Index(['gender', 'SeniorCitizen', 'Partner', 'Dependents', 'tenure',\n",
              "       'PhoneService', 'MultipleLines', 'InternetService', 'OnlineSecurity',\n",
              "       'OnlineBackup', 'DeviceProtection', 'TechSupport', 'StreamingTV',\n",
              "       'StreamingMovies', 'Contract', 'PaperlessBilling', 'PaymentMethod',\n",
              "       'MonthlyCharges', 'TotalCharges', 'Churn', 'Totalcharges'],\n",
              "      dtype='object')"
            ]
          },
          "metadata": {},
          "execution_count": 19
        }
      ]
    },
    {
      "cell_type": "code",
      "source": [
        "yes_no_columns=['Partner','Dependents','PhoneService','MultipleLines','OnlineSecurity','OnlineBackup','DeviceProtection',\n",
        "                'TechSupport','StreamingTV','StreamingMovies','PaperlessBilling','Churn']\n",
        "for col in yes_no_columns:\n",
        "  Churn_Data[col].replace({'Yes':1,\n",
        "                           'No':0},\n",
        "                          inplace=True)"
      ],
      "metadata": {
        "id": "qW7H7SXDZAt-"
      },
      "execution_count": null,
      "outputs": []
    },
    {
      "cell_type": "code",
      "source": [
        "Churn_Data['gender'].unique()"
      ],
      "metadata": {
        "colab": {
          "base_uri": "https://localhost:8080/"
        },
        "id": "0wA6gsmGaTvI",
        "outputId": "4ff1897d-c835-4094-a206-de9919477a63"
      },
      "execution_count": null,
      "outputs": [
        {
          "output_type": "execute_result",
          "data": {
            "text/plain": [
              "array(['Female', 'Male'], dtype=object)"
            ]
          },
          "metadata": {},
          "execution_count": 21
        }
      ]
    },
    {
      "cell_type": "code",
      "source": [
        "Churn_Data['Dependents'].unique()"
      ],
      "metadata": {
        "colab": {
          "base_uri": "https://localhost:8080/"
        },
        "id": "cQCYXmD6afjY",
        "outputId": "158f96a6-4e23-4785-ee70-4915a3981edc"
      },
      "execution_count": null,
      "outputs": [
        {
          "output_type": "execute_result",
          "data": {
            "text/plain": [
              "array([0, 1])"
            ]
          },
          "metadata": {},
          "execution_count": 22
        }
      ]
    },
    {
      "cell_type": "code",
      "source": [
        "Churn_Data_1=pd.get_dummies(data=Churn_Data,\n",
        "                            columns=['InternetService','Contract','PaymentMethod'])\n",
        "Churn_Data_1.columns"
      ],
      "metadata": {
        "colab": {
          "base_uri": "https://localhost:8080/"
        },
        "id": "6UEt99QBaxC1",
        "outputId": "c3c2b907-4a5b-4294-a75c-52e90db3c76e"
      },
      "execution_count": null,
      "outputs": [
        {
          "output_type": "execute_result",
          "data": {
            "text/plain": [
              "Index(['gender', 'SeniorCitizen', 'Partner', 'Dependents', 'tenure',\n",
              "       'PhoneService', 'MultipleLines', 'OnlineSecurity', 'OnlineBackup',\n",
              "       'DeviceProtection', 'TechSupport', 'StreamingTV', 'StreamingMovies',\n",
              "       'PaperlessBilling', 'MonthlyCharges', 'TotalCharges', 'Churn',\n",
              "       'Totalcharges', 'InternetService_DSL', 'InternetService_Fiber optic',\n",
              "       'InternetService_No', 'Contract_Month-to-month', 'Contract_One year',\n",
              "       'Contract_Two year', 'PaymentMethod_Bank transfer (automatic)',\n",
              "       'PaymentMethod_Credit card (automatic)',\n",
              "       'PaymentMethod_Electronic check', 'PaymentMethod_Mailed check'],\n",
              "      dtype='object')"
            ]
          },
          "metadata": {},
          "execution_count": 23
        }
      ]
    },
    {
      "cell_type": "code",
      "source": [
        "Churn_Data_1.dtypes"
      ],
      "metadata": {
        "colab": {
          "base_uri": "https://localhost:8080/"
        },
        "id": "PI3lrMgpbOl_",
        "outputId": "6b34fb15-51f1-4e78-cdd9-d97d776ebe3c"
      },
      "execution_count": null,
      "outputs": [
        {
          "output_type": "execute_result",
          "data": {
            "text/plain": [
              "gender                                      object\n",
              "SeniorCitizen                                int64\n",
              "Partner                                      int64\n",
              "Dependents                                   int64\n",
              "tenure                                       int64\n",
              "PhoneService                                 int64\n",
              "MultipleLines                                int64\n",
              "OnlineSecurity                               int64\n",
              "OnlineBackup                                 int64\n",
              "DeviceProtection                             int64\n",
              "TechSupport                                  int64\n",
              "StreamingTV                                  int64\n",
              "StreamingMovies                              int64\n",
              "PaperlessBilling                             int64\n",
              "MonthlyCharges                             float64\n",
              "TotalCharges                                object\n",
              "Churn                                        int64\n",
              "Totalcharges                               float64\n",
              "InternetService_DSL                          uint8\n",
              "InternetService_Fiber optic                  uint8\n",
              "InternetService_No                           uint8\n",
              "Contract_Month-to-month                      uint8\n",
              "Contract_One year                            uint8\n",
              "Contract_Two year                            uint8\n",
              "PaymentMethod_Bank transfer (automatic)      uint8\n",
              "PaymentMethod_Credit card (automatic)        uint8\n",
              "PaymentMethod_Electronic check               uint8\n",
              "PaymentMethod_Mailed check                   uint8\n",
              "dtype: object"
            ]
          },
          "metadata": {},
          "execution_count": 24
        }
      ]
    },
    {
      "cell_type": "code",
      "source": [
        "col_to_scale=['tenure','MonthlyCharges','TotalCharges']\n",
        "scaler=MinMaxScaler()\n",
        "Churn_Data_1[col_to_scale]=scaler.fit_transform(Churn_Data_1[col_to_scale])"
      ],
      "metadata": {
        "id": "j8h6p0i5bSvO"
      },
      "execution_count": null,
      "outputs": []
    },
    {
      "cell_type": "code",
      "source": [
        "Churn_Data_1[col_to_scale]"
      ],
      "metadata": {
        "colab": {
          "base_uri": "https://localhost:8080/",
          "height": 423
        },
        "id": "8fS-R4msb8-w",
        "outputId": "3d5fce58-931b-4250-e567-4819a0b21e8d"
      },
      "execution_count": null,
      "outputs": [
        {
          "output_type": "execute_result",
          "data": {
            "text/plain": [
              "        tenure  MonthlyCharges  TotalCharges\n",
              "0     0.000000        0.115423      0.001275\n",
              "1     0.464789        0.385075      0.215867\n",
              "2     0.014085        0.354229      0.010310\n",
              "3     0.619718        0.239303      0.210241\n",
              "4     0.014085        0.521891      0.015330\n",
              "...        ...             ...           ...\n",
              "7038  0.323944        0.662189      0.227521\n",
              "7039  1.000000        0.845274      0.847461\n",
              "7040  0.140845        0.112935      0.037809\n",
              "7041  0.042254        0.558706      0.033210\n",
              "7042  0.915493        0.869652      0.787641\n",
              "\n",
              "[7032 rows x 3 columns]"
            ],
            "text/html": [
              "\n",
              "  <div id=\"df-5cb1ccb6-4af4-4de9-90d4-b0b9526d25c1\">\n",
              "    <div class=\"colab-df-container\">\n",
              "      <div>\n",
              "<style scoped>\n",
              "    .dataframe tbody tr th:only-of-type {\n",
              "        vertical-align: middle;\n",
              "    }\n",
              "\n",
              "    .dataframe tbody tr th {\n",
              "        vertical-align: top;\n",
              "    }\n",
              "\n",
              "    .dataframe thead th {\n",
              "        text-align: right;\n",
              "    }\n",
              "</style>\n",
              "<table border=\"1\" class=\"dataframe\">\n",
              "  <thead>\n",
              "    <tr style=\"text-align: right;\">\n",
              "      <th></th>\n",
              "      <th>tenure</th>\n",
              "      <th>MonthlyCharges</th>\n",
              "      <th>TotalCharges</th>\n",
              "    </tr>\n",
              "  </thead>\n",
              "  <tbody>\n",
              "    <tr>\n",
              "      <th>0</th>\n",
              "      <td>0.000000</td>\n",
              "      <td>0.115423</td>\n",
              "      <td>0.001275</td>\n",
              "    </tr>\n",
              "    <tr>\n",
              "      <th>1</th>\n",
              "      <td>0.464789</td>\n",
              "      <td>0.385075</td>\n",
              "      <td>0.215867</td>\n",
              "    </tr>\n",
              "    <tr>\n",
              "      <th>2</th>\n",
              "      <td>0.014085</td>\n",
              "      <td>0.354229</td>\n",
              "      <td>0.010310</td>\n",
              "    </tr>\n",
              "    <tr>\n",
              "      <th>3</th>\n",
              "      <td>0.619718</td>\n",
              "      <td>0.239303</td>\n",
              "      <td>0.210241</td>\n",
              "    </tr>\n",
              "    <tr>\n",
              "      <th>4</th>\n",
              "      <td>0.014085</td>\n",
              "      <td>0.521891</td>\n",
              "      <td>0.015330</td>\n",
              "    </tr>\n",
              "    <tr>\n",
              "      <th>...</th>\n",
              "      <td>...</td>\n",
              "      <td>...</td>\n",
              "      <td>...</td>\n",
              "    </tr>\n",
              "    <tr>\n",
              "      <th>7038</th>\n",
              "      <td>0.323944</td>\n",
              "      <td>0.662189</td>\n",
              "      <td>0.227521</td>\n",
              "    </tr>\n",
              "    <tr>\n",
              "      <th>7039</th>\n",
              "      <td>1.000000</td>\n",
              "      <td>0.845274</td>\n",
              "      <td>0.847461</td>\n",
              "    </tr>\n",
              "    <tr>\n",
              "      <th>7040</th>\n",
              "      <td>0.140845</td>\n",
              "      <td>0.112935</td>\n",
              "      <td>0.037809</td>\n",
              "    </tr>\n",
              "    <tr>\n",
              "      <th>7041</th>\n",
              "      <td>0.042254</td>\n",
              "      <td>0.558706</td>\n",
              "      <td>0.033210</td>\n",
              "    </tr>\n",
              "    <tr>\n",
              "      <th>7042</th>\n",
              "      <td>0.915493</td>\n",
              "      <td>0.869652</td>\n",
              "      <td>0.787641</td>\n",
              "    </tr>\n",
              "  </tbody>\n",
              "</table>\n",
              "<p>7032 rows × 3 columns</p>\n",
              "</div>\n",
              "      <button class=\"colab-df-convert\" onclick=\"convertToInteractive('df-5cb1ccb6-4af4-4de9-90d4-b0b9526d25c1')\"\n",
              "              title=\"Convert this dataframe to an interactive table.\"\n",
              "              style=\"display:none;\">\n",
              "        \n",
              "  <svg xmlns=\"http://www.w3.org/2000/svg\" height=\"24px\"viewBox=\"0 0 24 24\"\n",
              "       width=\"24px\">\n",
              "    <path d=\"M0 0h24v24H0V0z\" fill=\"none\"/>\n",
              "    <path d=\"M18.56 5.44l.94 2.06.94-2.06 2.06-.94-2.06-.94-.94-2.06-.94 2.06-2.06.94zm-11 1L8.5 8.5l.94-2.06 2.06-.94-2.06-.94L8.5 2.5l-.94 2.06-2.06.94zm10 10l.94 2.06.94-2.06 2.06-.94-2.06-.94-.94-2.06-.94 2.06-2.06.94z\"/><path d=\"M17.41 7.96l-1.37-1.37c-.4-.4-.92-.59-1.43-.59-.52 0-1.04.2-1.43.59L10.3 9.45l-7.72 7.72c-.78.78-.78 2.05 0 2.83L4 21.41c.39.39.9.59 1.41.59.51 0 1.02-.2 1.41-.59l7.78-7.78 2.81-2.81c.8-.78.8-2.07 0-2.86zM5.41 20L4 18.59l7.72-7.72 1.47 1.35L5.41 20z\"/>\n",
              "  </svg>\n",
              "      </button>\n",
              "      \n",
              "  <style>\n",
              "    .colab-df-container {\n",
              "      display:flex;\n",
              "      flex-wrap:wrap;\n",
              "      gap: 12px;\n",
              "    }\n",
              "\n",
              "    .colab-df-convert {\n",
              "      background-color: #E8F0FE;\n",
              "      border: none;\n",
              "      border-radius: 50%;\n",
              "      cursor: pointer;\n",
              "      display: none;\n",
              "      fill: #1967D2;\n",
              "      height: 32px;\n",
              "      padding: 0 0 0 0;\n",
              "      width: 32px;\n",
              "    }\n",
              "\n",
              "    .colab-df-convert:hover {\n",
              "      background-color: #E2EBFA;\n",
              "      box-shadow: 0px 1px 2px rgba(60, 64, 67, 0.3), 0px 1px 3px 1px rgba(60, 64, 67, 0.15);\n",
              "      fill: #174EA6;\n",
              "    }\n",
              "\n",
              "    [theme=dark] .colab-df-convert {\n",
              "      background-color: #3B4455;\n",
              "      fill: #D2E3FC;\n",
              "    }\n",
              "\n",
              "    [theme=dark] .colab-df-convert:hover {\n",
              "      background-color: #434B5C;\n",
              "      box-shadow: 0px 1px 3px 1px rgba(0, 0, 0, 0.15);\n",
              "      filter: drop-shadow(0px 1px 2px rgba(0, 0, 0, 0.3));\n",
              "      fill: #FFFFFF;\n",
              "    }\n",
              "  </style>\n",
              "\n",
              "      <script>\n",
              "        const buttonEl =\n",
              "          document.querySelector('#df-5cb1ccb6-4af4-4de9-90d4-b0b9526d25c1 button.colab-df-convert');\n",
              "        buttonEl.style.display =\n",
              "          google.colab.kernel.accessAllowed ? 'block' : 'none';\n",
              "\n",
              "        async function convertToInteractive(key) {\n",
              "          const element = document.querySelector('#df-5cb1ccb6-4af4-4de9-90d4-b0b9526d25c1');\n",
              "          const dataTable =\n",
              "            await google.colab.kernel.invokeFunction('convertToInteractive',\n",
              "                                                     [key], {});\n",
              "          if (!dataTable) return;\n",
              "\n",
              "          const docLinkHtml = 'Like what you see? Visit the ' +\n",
              "            '<a target=\"_blank\" href=https://colab.research.google.com/notebooks/data_table.ipynb>data table notebook</a>'\n",
              "            + ' to learn more about interactive tables.';\n",
              "          element.innerHTML = '';\n",
              "          dataTable['output_type'] = 'display_data';\n",
              "          await google.colab.output.renderOutput(dataTable, element);\n",
              "          const docLink = document.createElement('div');\n",
              "          docLink.innerHTML = docLinkHtml;\n",
              "          element.appendChild(docLink);\n",
              "        }\n",
              "      </script>\n",
              "    </div>\n",
              "  </div>\n",
              "  "
            ]
          },
          "metadata": {},
          "execution_count": 26
        }
      ]
    },
    {
      "cell_type": "code",
      "source": [
        "Churn_Data_1= pd.get_dummies(Churn_Data_1, columns=['gender'])\n",
        "Churn_Data_1"
      ],
      "metadata": {
        "colab": {
          "base_uri": "https://localhost:8080/",
          "height": 522
        },
        "id": "LoLGW5SZttMz",
        "outputId": "d1ef5bbe-45c0-434a-bd1f-d2965bbd0c0a"
      },
      "execution_count": null,
      "outputs": [
        {
          "output_type": "execute_result",
          "data": {
            "text/plain": [
              "      SeniorCitizen  Partner  Dependents    tenure  PhoneService  \\\n",
              "0                 0        1           0  0.000000             0   \n",
              "1                 0        0           0  0.464789             1   \n",
              "2                 0        0           0  0.014085             1   \n",
              "3                 0        0           0  0.619718             0   \n",
              "4                 0        0           0  0.014085             1   \n",
              "...             ...      ...         ...       ...           ...   \n",
              "7038              0        1           1  0.323944             1   \n",
              "7039              0        1           1  1.000000             1   \n",
              "7040              0        1           1  0.140845             0   \n",
              "7041              1        1           0  0.042254             1   \n",
              "7042              0        0           0  0.915493             1   \n",
              "\n",
              "      MultipleLines  OnlineSecurity  OnlineBackup  DeviceProtection  \\\n",
              "0                 0               0             1                 0   \n",
              "1                 0               1             0                 1   \n",
              "2                 0               1             1                 0   \n",
              "3                 0               1             0                 1   \n",
              "4                 0               0             0                 0   \n",
              "...             ...             ...           ...               ...   \n",
              "7038              1               1             0                 1   \n",
              "7039              1               0             1                 1   \n",
              "7040              0               1             0                 0   \n",
              "7041              1               0             0                 0   \n",
              "7042              0               1             0                 1   \n",
              "\n",
              "      TechSupport  ...  InternetService_No  Contract_Month-to-month  \\\n",
              "0               0  ...                   0                        1   \n",
              "1               0  ...                   0                        0   \n",
              "2               0  ...                   0                        1   \n",
              "3               1  ...                   0                        0   \n",
              "4               0  ...                   0                        1   \n",
              "...           ...  ...                 ...                      ...   \n",
              "7038            1  ...                   0                        0   \n",
              "7039            0  ...                   0                        0   \n",
              "7040            0  ...                   0                        1   \n",
              "7041            0  ...                   0                        1   \n",
              "7042            1  ...                   0                        0   \n",
              "\n",
              "      Contract_One year  Contract_Two year  \\\n",
              "0                     0                  0   \n",
              "1                     1                  0   \n",
              "2                     0                  0   \n",
              "3                     1                  0   \n",
              "4                     0                  0   \n",
              "...                 ...                ...   \n",
              "7038                  1                  0   \n",
              "7039                  1                  0   \n",
              "7040                  0                  0   \n",
              "7041                  0                  0   \n",
              "7042                  0                  1   \n",
              "\n",
              "      PaymentMethod_Bank transfer (automatic)  \\\n",
              "0                                           0   \n",
              "1                                           0   \n",
              "2                                           0   \n",
              "3                                           1   \n",
              "4                                           0   \n",
              "...                                       ...   \n",
              "7038                                        0   \n",
              "7039                                        0   \n",
              "7040                                        0   \n",
              "7041                                        0   \n",
              "7042                                        1   \n",
              "\n",
              "      PaymentMethod_Credit card (automatic)  PaymentMethod_Electronic check  \\\n",
              "0                                         0                               1   \n",
              "1                                         0                               0   \n",
              "2                                         0                               0   \n",
              "3                                         0                               0   \n",
              "4                                         0                               1   \n",
              "...                                     ...                             ...   \n",
              "7038                                      0                               0   \n",
              "7039                                      1                               0   \n",
              "7040                                      0                               1   \n",
              "7041                                      0                               0   \n",
              "7042                                      0                               0   \n",
              "\n",
              "      PaymentMethod_Mailed check  gender_Female  gender_Male  \n",
              "0                              0              1            0  \n",
              "1                              1              0            1  \n",
              "2                              1              0            1  \n",
              "3                              0              0            1  \n",
              "4                              0              1            0  \n",
              "...                          ...            ...          ...  \n",
              "7038                           1              0            1  \n",
              "7039                           0              1            0  \n",
              "7040                           0              1            0  \n",
              "7041                           1              0            1  \n",
              "7042                           0              0            1  \n",
              "\n",
              "[7032 rows x 29 columns]"
            ],
            "text/html": [
              "\n",
              "  <div id=\"df-a9ddcddf-a425-447f-b25b-eb86671fa4f7\">\n",
              "    <div class=\"colab-df-container\">\n",
              "      <div>\n",
              "<style scoped>\n",
              "    .dataframe tbody tr th:only-of-type {\n",
              "        vertical-align: middle;\n",
              "    }\n",
              "\n",
              "    .dataframe tbody tr th {\n",
              "        vertical-align: top;\n",
              "    }\n",
              "\n",
              "    .dataframe thead th {\n",
              "        text-align: right;\n",
              "    }\n",
              "</style>\n",
              "<table border=\"1\" class=\"dataframe\">\n",
              "  <thead>\n",
              "    <tr style=\"text-align: right;\">\n",
              "      <th></th>\n",
              "      <th>SeniorCitizen</th>\n",
              "      <th>Partner</th>\n",
              "      <th>Dependents</th>\n",
              "      <th>tenure</th>\n",
              "      <th>PhoneService</th>\n",
              "      <th>MultipleLines</th>\n",
              "      <th>OnlineSecurity</th>\n",
              "      <th>OnlineBackup</th>\n",
              "      <th>DeviceProtection</th>\n",
              "      <th>TechSupport</th>\n",
              "      <th>...</th>\n",
              "      <th>InternetService_No</th>\n",
              "      <th>Contract_Month-to-month</th>\n",
              "      <th>Contract_One year</th>\n",
              "      <th>Contract_Two year</th>\n",
              "      <th>PaymentMethod_Bank transfer (automatic)</th>\n",
              "      <th>PaymentMethod_Credit card (automatic)</th>\n",
              "      <th>PaymentMethod_Electronic check</th>\n",
              "      <th>PaymentMethod_Mailed check</th>\n",
              "      <th>gender_Female</th>\n",
              "      <th>gender_Male</th>\n",
              "    </tr>\n",
              "  </thead>\n",
              "  <tbody>\n",
              "    <tr>\n",
              "      <th>0</th>\n",
              "      <td>0</td>\n",
              "      <td>1</td>\n",
              "      <td>0</td>\n",
              "      <td>0.000000</td>\n",
              "      <td>0</td>\n",
              "      <td>0</td>\n",
              "      <td>0</td>\n",
              "      <td>1</td>\n",
              "      <td>0</td>\n",
              "      <td>0</td>\n",
              "      <td>...</td>\n",
              "      <td>0</td>\n",
              "      <td>1</td>\n",
              "      <td>0</td>\n",
              "      <td>0</td>\n",
              "      <td>0</td>\n",
              "      <td>0</td>\n",
              "      <td>1</td>\n",
              "      <td>0</td>\n",
              "      <td>1</td>\n",
              "      <td>0</td>\n",
              "    </tr>\n",
              "    <tr>\n",
              "      <th>1</th>\n",
              "      <td>0</td>\n",
              "      <td>0</td>\n",
              "      <td>0</td>\n",
              "      <td>0.464789</td>\n",
              "      <td>1</td>\n",
              "      <td>0</td>\n",
              "      <td>1</td>\n",
              "      <td>0</td>\n",
              "      <td>1</td>\n",
              "      <td>0</td>\n",
              "      <td>...</td>\n",
              "      <td>0</td>\n",
              "      <td>0</td>\n",
              "      <td>1</td>\n",
              "      <td>0</td>\n",
              "      <td>0</td>\n",
              "      <td>0</td>\n",
              "      <td>0</td>\n",
              "      <td>1</td>\n",
              "      <td>0</td>\n",
              "      <td>1</td>\n",
              "    </tr>\n",
              "    <tr>\n",
              "      <th>2</th>\n",
              "      <td>0</td>\n",
              "      <td>0</td>\n",
              "      <td>0</td>\n",
              "      <td>0.014085</td>\n",
              "      <td>1</td>\n",
              "      <td>0</td>\n",
              "      <td>1</td>\n",
              "      <td>1</td>\n",
              "      <td>0</td>\n",
              "      <td>0</td>\n",
              "      <td>...</td>\n",
              "      <td>0</td>\n",
              "      <td>1</td>\n",
              "      <td>0</td>\n",
              "      <td>0</td>\n",
              "      <td>0</td>\n",
              "      <td>0</td>\n",
              "      <td>0</td>\n",
              "      <td>1</td>\n",
              "      <td>0</td>\n",
              "      <td>1</td>\n",
              "    </tr>\n",
              "    <tr>\n",
              "      <th>3</th>\n",
              "      <td>0</td>\n",
              "      <td>0</td>\n",
              "      <td>0</td>\n",
              "      <td>0.619718</td>\n",
              "      <td>0</td>\n",
              "      <td>0</td>\n",
              "      <td>1</td>\n",
              "      <td>0</td>\n",
              "      <td>1</td>\n",
              "      <td>1</td>\n",
              "      <td>...</td>\n",
              "      <td>0</td>\n",
              "      <td>0</td>\n",
              "      <td>1</td>\n",
              "      <td>0</td>\n",
              "      <td>1</td>\n",
              "      <td>0</td>\n",
              "      <td>0</td>\n",
              "      <td>0</td>\n",
              "      <td>0</td>\n",
              "      <td>1</td>\n",
              "    </tr>\n",
              "    <tr>\n",
              "      <th>4</th>\n",
              "      <td>0</td>\n",
              "      <td>0</td>\n",
              "      <td>0</td>\n",
              "      <td>0.014085</td>\n",
              "      <td>1</td>\n",
              "      <td>0</td>\n",
              "      <td>0</td>\n",
              "      <td>0</td>\n",
              "      <td>0</td>\n",
              "      <td>0</td>\n",
              "      <td>...</td>\n",
              "      <td>0</td>\n",
              "      <td>1</td>\n",
              "      <td>0</td>\n",
              "      <td>0</td>\n",
              "      <td>0</td>\n",
              "      <td>0</td>\n",
              "      <td>1</td>\n",
              "      <td>0</td>\n",
              "      <td>1</td>\n",
              "      <td>0</td>\n",
              "    </tr>\n",
              "    <tr>\n",
              "      <th>...</th>\n",
              "      <td>...</td>\n",
              "      <td>...</td>\n",
              "      <td>...</td>\n",
              "      <td>...</td>\n",
              "      <td>...</td>\n",
              "      <td>...</td>\n",
              "      <td>...</td>\n",
              "      <td>...</td>\n",
              "      <td>...</td>\n",
              "      <td>...</td>\n",
              "      <td>...</td>\n",
              "      <td>...</td>\n",
              "      <td>...</td>\n",
              "      <td>...</td>\n",
              "      <td>...</td>\n",
              "      <td>...</td>\n",
              "      <td>...</td>\n",
              "      <td>...</td>\n",
              "      <td>...</td>\n",
              "      <td>...</td>\n",
              "      <td>...</td>\n",
              "    </tr>\n",
              "    <tr>\n",
              "      <th>7038</th>\n",
              "      <td>0</td>\n",
              "      <td>1</td>\n",
              "      <td>1</td>\n",
              "      <td>0.323944</td>\n",
              "      <td>1</td>\n",
              "      <td>1</td>\n",
              "      <td>1</td>\n",
              "      <td>0</td>\n",
              "      <td>1</td>\n",
              "      <td>1</td>\n",
              "      <td>...</td>\n",
              "      <td>0</td>\n",
              "      <td>0</td>\n",
              "      <td>1</td>\n",
              "      <td>0</td>\n",
              "      <td>0</td>\n",
              "      <td>0</td>\n",
              "      <td>0</td>\n",
              "      <td>1</td>\n",
              "      <td>0</td>\n",
              "      <td>1</td>\n",
              "    </tr>\n",
              "    <tr>\n",
              "      <th>7039</th>\n",
              "      <td>0</td>\n",
              "      <td>1</td>\n",
              "      <td>1</td>\n",
              "      <td>1.000000</td>\n",
              "      <td>1</td>\n",
              "      <td>1</td>\n",
              "      <td>0</td>\n",
              "      <td>1</td>\n",
              "      <td>1</td>\n",
              "      <td>0</td>\n",
              "      <td>...</td>\n",
              "      <td>0</td>\n",
              "      <td>0</td>\n",
              "      <td>1</td>\n",
              "      <td>0</td>\n",
              "      <td>0</td>\n",
              "      <td>1</td>\n",
              "      <td>0</td>\n",
              "      <td>0</td>\n",
              "      <td>1</td>\n",
              "      <td>0</td>\n",
              "    </tr>\n",
              "    <tr>\n",
              "      <th>7040</th>\n",
              "      <td>0</td>\n",
              "      <td>1</td>\n",
              "      <td>1</td>\n",
              "      <td>0.140845</td>\n",
              "      <td>0</td>\n",
              "      <td>0</td>\n",
              "      <td>1</td>\n",
              "      <td>0</td>\n",
              "      <td>0</td>\n",
              "      <td>0</td>\n",
              "      <td>...</td>\n",
              "      <td>0</td>\n",
              "      <td>1</td>\n",
              "      <td>0</td>\n",
              "      <td>0</td>\n",
              "      <td>0</td>\n",
              "      <td>0</td>\n",
              "      <td>1</td>\n",
              "      <td>0</td>\n",
              "      <td>1</td>\n",
              "      <td>0</td>\n",
              "    </tr>\n",
              "    <tr>\n",
              "      <th>7041</th>\n",
              "      <td>1</td>\n",
              "      <td>1</td>\n",
              "      <td>0</td>\n",
              "      <td>0.042254</td>\n",
              "      <td>1</td>\n",
              "      <td>1</td>\n",
              "      <td>0</td>\n",
              "      <td>0</td>\n",
              "      <td>0</td>\n",
              "      <td>0</td>\n",
              "      <td>...</td>\n",
              "      <td>0</td>\n",
              "      <td>1</td>\n",
              "      <td>0</td>\n",
              "      <td>0</td>\n",
              "      <td>0</td>\n",
              "      <td>0</td>\n",
              "      <td>0</td>\n",
              "      <td>1</td>\n",
              "      <td>0</td>\n",
              "      <td>1</td>\n",
              "    </tr>\n",
              "    <tr>\n",
              "      <th>7042</th>\n",
              "      <td>0</td>\n",
              "      <td>0</td>\n",
              "      <td>0</td>\n",
              "      <td>0.915493</td>\n",
              "      <td>1</td>\n",
              "      <td>0</td>\n",
              "      <td>1</td>\n",
              "      <td>0</td>\n",
              "      <td>1</td>\n",
              "      <td>1</td>\n",
              "      <td>...</td>\n",
              "      <td>0</td>\n",
              "      <td>0</td>\n",
              "      <td>0</td>\n",
              "      <td>1</td>\n",
              "      <td>1</td>\n",
              "      <td>0</td>\n",
              "      <td>0</td>\n",
              "      <td>0</td>\n",
              "      <td>0</td>\n",
              "      <td>1</td>\n",
              "    </tr>\n",
              "  </tbody>\n",
              "</table>\n",
              "<p>7032 rows × 29 columns</p>\n",
              "</div>\n",
              "      <button class=\"colab-df-convert\" onclick=\"convertToInteractive('df-a9ddcddf-a425-447f-b25b-eb86671fa4f7')\"\n",
              "              title=\"Convert this dataframe to an interactive table.\"\n",
              "              style=\"display:none;\">\n",
              "        \n",
              "  <svg xmlns=\"http://www.w3.org/2000/svg\" height=\"24px\"viewBox=\"0 0 24 24\"\n",
              "       width=\"24px\">\n",
              "    <path d=\"M0 0h24v24H0V0z\" fill=\"none\"/>\n",
              "    <path d=\"M18.56 5.44l.94 2.06.94-2.06 2.06-.94-2.06-.94-.94-2.06-.94 2.06-2.06.94zm-11 1L8.5 8.5l.94-2.06 2.06-.94-2.06-.94L8.5 2.5l-.94 2.06-2.06.94zm10 10l.94 2.06.94-2.06 2.06-.94-2.06-.94-.94-2.06-.94 2.06-2.06.94z\"/><path d=\"M17.41 7.96l-1.37-1.37c-.4-.4-.92-.59-1.43-.59-.52 0-1.04.2-1.43.59L10.3 9.45l-7.72 7.72c-.78.78-.78 2.05 0 2.83L4 21.41c.39.39.9.59 1.41.59.51 0 1.02-.2 1.41-.59l7.78-7.78 2.81-2.81c.8-.78.8-2.07 0-2.86zM5.41 20L4 18.59l7.72-7.72 1.47 1.35L5.41 20z\"/>\n",
              "  </svg>\n",
              "      </button>\n",
              "      \n",
              "  <style>\n",
              "    .colab-df-container {\n",
              "      display:flex;\n",
              "      flex-wrap:wrap;\n",
              "      gap: 12px;\n",
              "    }\n",
              "\n",
              "    .colab-df-convert {\n",
              "      background-color: #E8F0FE;\n",
              "      border: none;\n",
              "      border-radius: 50%;\n",
              "      cursor: pointer;\n",
              "      display: none;\n",
              "      fill: #1967D2;\n",
              "      height: 32px;\n",
              "      padding: 0 0 0 0;\n",
              "      width: 32px;\n",
              "    }\n",
              "\n",
              "    .colab-df-convert:hover {\n",
              "      background-color: #E2EBFA;\n",
              "      box-shadow: 0px 1px 2px rgba(60, 64, 67, 0.3), 0px 1px 3px 1px rgba(60, 64, 67, 0.15);\n",
              "      fill: #174EA6;\n",
              "    }\n",
              "\n",
              "    [theme=dark] .colab-df-convert {\n",
              "      background-color: #3B4455;\n",
              "      fill: #D2E3FC;\n",
              "    }\n",
              "\n",
              "    [theme=dark] .colab-df-convert:hover {\n",
              "      background-color: #434B5C;\n",
              "      box-shadow: 0px 1px 3px 1px rgba(0, 0, 0, 0.15);\n",
              "      filter: drop-shadow(0px 1px 2px rgba(0, 0, 0, 0.3));\n",
              "      fill: #FFFFFF;\n",
              "    }\n",
              "  </style>\n",
              "\n",
              "      <script>\n",
              "        const buttonEl =\n",
              "          document.querySelector('#df-a9ddcddf-a425-447f-b25b-eb86671fa4f7 button.colab-df-convert');\n",
              "        buttonEl.style.display =\n",
              "          google.colab.kernel.accessAllowed ? 'block' : 'none';\n",
              "\n",
              "        async function convertToInteractive(key) {\n",
              "          const element = document.querySelector('#df-a9ddcddf-a425-447f-b25b-eb86671fa4f7');\n",
              "          const dataTable =\n",
              "            await google.colab.kernel.invokeFunction('convertToInteractive',\n",
              "                                                     [key], {});\n",
              "          if (!dataTable) return;\n",
              "\n",
              "          const docLinkHtml = 'Like what you see? Visit the ' +\n",
              "            '<a target=\"_blank\" href=https://colab.research.google.com/notebooks/data_table.ipynb>data table notebook</a>'\n",
              "            + ' to learn more about interactive tables.';\n",
              "          element.innerHTML = '';\n",
              "          dataTable['output_type'] = 'display_data';\n",
              "          await google.colab.output.renderOutput(dataTable, element);\n",
              "          const docLink = document.createElement('div');\n",
              "          docLink.innerHTML = docLinkHtml;\n",
              "          element.appendChild(docLink);\n",
              "        }\n",
              "      </script>\n",
              "    </div>\n",
              "  </div>\n",
              "  "
            ]
          },
          "metadata": {},
          "execution_count": 41
        }
      ]
    },
    {
      "cell_type": "code",
      "source": [
        "X=Churn_Data_1.drop('Churn',\n",
        "                    axis='columns')\n",
        "y=Churn_Data_1['Churn']"
      ],
      "metadata": {
        "id": "UuFXOKfncFGC"
      },
      "execution_count": null,
      "outputs": []
    },
    {
      "cell_type": "code",
      "source": [
        "X_train,X_test,y_train,y_test=train_test_split(X,y,test_size=0.3,random_state=42)"
      ],
      "metadata": {
        "id": "I8gsB25OcUgh"
      },
      "execution_count": null,
      "outputs": []
    },
    {
      "cell_type": "code",
      "source": [
        "X_train.shape"
      ],
      "metadata": {
        "colab": {
          "base_uri": "https://localhost:8080/"
        },
        "id": "GXopz-utcwm-",
        "outputId": "226c78fc-7288-475d-8483-41818f4d18c9"
      },
      "execution_count": null,
      "outputs": [
        {
          "output_type": "execute_result",
          "data": {
            "text/plain": [
              "(4922, 28)"
            ]
          },
          "metadata": {},
          "execution_count": 44
        }
      ]
    },
    {
      "cell_type": "code",
      "source": [
        "X_test.shape"
      ],
      "metadata": {
        "colab": {
          "base_uri": "https://localhost:8080/"
        },
        "id": "y_o69Zd6c0JR",
        "outputId": "34146f12-2e37-49c5-d47b-fb2f01c7cb33"
      },
      "execution_count": null,
      "outputs": [
        {
          "output_type": "execute_result",
          "data": {
            "text/plain": [
              "(2110, 28)"
            ]
          },
          "metadata": {},
          "execution_count": 45
        }
      ]
    },
    {
      "cell_type": "code",
      "source": [
        "len(X_train.columns)"
      ],
      "metadata": {
        "colab": {
          "base_uri": "https://localhost:8080/"
        },
        "id": "aVggyYxic6av",
        "outputId": "2527a061-8747-474c-8eb9-8705e0a56cc0"
      },
      "execution_count": null,
      "outputs": [
        {
          "output_type": "execute_result",
          "data": {
            "text/plain": [
              "28"
            ]
          },
          "metadata": {},
          "execution_count": 46
        }
      ]
    },
    {
      "cell_type": "code",
      "source": [
        "# Feature scaling using Min-Max Scaler\n",
        "scaler = MinMaxScaler()\n",
        "X_train_scaled = scaler.fit_transform(X_train)\n",
        "X_test_scaled = scaler.transform(X_test)"
      ],
      "metadata": {
        "id": "NhkhQHq1tYUl"
      },
      "execution_count": null,
      "outputs": []
    },
    {
      "cell_type": "code",
      "source": [
        "model=keras.Sequential([\n",
        "    keras.layers.Dense(20,input_shape=(28,),activation='relu'),\n",
        "    keras.layers.Dense(1,activation='sigmoid')\n",
        "])\n",
        "model.compile(optimizer='adam',\n",
        "              loss='binary_crossentropy',\n",
        "              metrics=['accuracy'])"
      ],
      "metadata": {
        "id": "Rc8V_AMRetw_"
      },
      "execution_count": null,
      "outputs": []
    },
    {
      "cell_type": "code",
      "source": [
        "# Train the model\n",
        "model.fit(X_train, y_train, epochs=100)"
      ],
      "metadata": {
        "colab": {
          "base_uri": "https://localhost:8080/"
        },
        "id": "AstO3rMCo7KE",
        "outputId": "8c42fc56-a721-4471-d588-3d6e2460ff0c"
      },
      "execution_count": null,
      "outputs": [
        {
          "output_type": "stream",
          "name": "stdout",
          "text": [
            "Epoch 1/100\n",
            "154/154 [==============================] - 1s 1ms/step - loss: 5.1854 - accuracy: 0.6735\n",
            "Epoch 2/100\n",
            "154/154 [==============================] - 0s 1ms/step - loss: 0.6965 - accuracy: 0.7462\n",
            "Epoch 3/100\n",
            "154/154 [==============================] - 0s 1ms/step - loss: 0.6616 - accuracy: 0.7690\n",
            "Epoch 4/100\n",
            "154/154 [==============================] - 0s 1ms/step - loss: 0.5778 - accuracy: 0.7761\n",
            "Epoch 5/100\n",
            "154/154 [==============================] - 0s 1ms/step - loss: 0.6767 - accuracy: 0.7706\n",
            "Epoch 6/100\n",
            "154/154 [==============================] - 0s 1ms/step - loss: 0.7045 - accuracy: 0.7714\n",
            "Epoch 7/100\n",
            "154/154 [==============================] - 0s 1ms/step - loss: 0.8446 - accuracy: 0.7639\n",
            "Epoch 8/100\n",
            "154/154 [==============================] - 0s 1ms/step - loss: 0.7809 - accuracy: 0.7615\n",
            "Epoch 9/100\n",
            "154/154 [==============================] - 0s 1ms/step - loss: 0.6332 - accuracy: 0.7812\n",
            "Epoch 10/100\n",
            "154/154 [==============================] - 0s 1ms/step - loss: 0.6951 - accuracy: 0.7690\n",
            "Epoch 11/100\n",
            "154/154 [==============================] - 0s 1ms/step - loss: 0.8237 - accuracy: 0.7702\n",
            "Epoch 12/100\n",
            "154/154 [==============================] - 0s 1ms/step - loss: 0.6408 - accuracy: 0.7731\n",
            "Epoch 13/100\n",
            "154/154 [==============================] - 0s 1ms/step - loss: 0.5948 - accuracy: 0.7775\n",
            "Epoch 14/100\n",
            "154/154 [==============================] - 0s 1ms/step - loss: 0.7113 - accuracy: 0.7727\n",
            "Epoch 15/100\n",
            "154/154 [==============================] - 0s 2ms/step - loss: 0.8042 - accuracy: 0.7765\n",
            "Epoch 16/100\n",
            "154/154 [==============================] - 0s 1ms/step - loss: 0.6350 - accuracy: 0.7755\n",
            "Epoch 17/100\n",
            "154/154 [==============================] - 0s 1ms/step - loss: 0.6335 - accuracy: 0.7785\n",
            "Epoch 18/100\n",
            "154/154 [==============================] - 0s 1ms/step - loss: 0.5864 - accuracy: 0.7759\n",
            "Epoch 19/100\n",
            "154/154 [==============================] - 0s 1ms/step - loss: 0.6949 - accuracy: 0.7727\n",
            "Epoch 20/100\n",
            "154/154 [==============================] - 0s 1ms/step - loss: 0.5995 - accuracy: 0.7828\n",
            "Epoch 21/100\n",
            "154/154 [==============================] - 0s 1ms/step - loss: 0.5653 - accuracy: 0.7820\n",
            "Epoch 22/100\n",
            "154/154 [==============================] - 0s 2ms/step - loss: 0.5843 - accuracy: 0.7850\n",
            "Epoch 23/100\n",
            "154/154 [==============================] - 0s 1ms/step - loss: 0.6222 - accuracy: 0.7753\n",
            "Epoch 24/100\n",
            "154/154 [==============================] - 0s 1ms/step - loss: 0.5886 - accuracy: 0.7773\n",
            "Epoch 25/100\n",
            "154/154 [==============================] - 0s 1ms/step - loss: 0.6786 - accuracy: 0.7765\n",
            "Epoch 26/100\n",
            "154/154 [==============================] - 0s 1ms/step - loss: 0.7194 - accuracy: 0.7668\n",
            "Epoch 27/100\n",
            "154/154 [==============================] - 0s 1ms/step - loss: 0.5440 - accuracy: 0.7820\n",
            "Epoch 28/100\n",
            "154/154 [==============================] - 0s 1ms/step - loss: 0.6495 - accuracy: 0.7727\n",
            "Epoch 29/100\n",
            "154/154 [==============================] - 0s 1ms/step - loss: 0.7370 - accuracy: 0.7633\n",
            "Epoch 30/100\n",
            "154/154 [==============================] - 0s 1ms/step - loss: 0.6511 - accuracy: 0.7759\n",
            "Epoch 31/100\n",
            "154/154 [==============================] - 0s 1ms/step - loss: 0.6878 - accuracy: 0.7737\n",
            "Epoch 32/100\n",
            "154/154 [==============================] - 0s 1ms/step - loss: 0.7114 - accuracy: 0.7824\n",
            "Epoch 33/100\n",
            "154/154 [==============================] - 0s 1ms/step - loss: 0.5874 - accuracy: 0.7783\n",
            "Epoch 34/100\n",
            "154/154 [==============================] - 0s 1ms/step - loss: 0.6831 - accuracy: 0.7698\n",
            "Epoch 35/100\n",
            "154/154 [==============================] - 0s 1ms/step - loss: 0.8052 - accuracy: 0.7635\n",
            "Epoch 36/100\n",
            "154/154 [==============================] - 0s 1ms/step - loss: 0.9678 - accuracy: 0.7621\n",
            "Epoch 37/100\n",
            "154/154 [==============================] - 0s 1ms/step - loss: 0.6312 - accuracy: 0.7745\n",
            "Epoch 38/100\n",
            "154/154 [==============================] - 0s 1ms/step - loss: 0.4961 - accuracy: 0.7889\n",
            "Epoch 39/100\n",
            "154/154 [==============================] - 0s 1ms/step - loss: 0.7682 - accuracy: 0.7704\n",
            "Epoch 40/100\n",
            "154/154 [==============================] - 0s 1ms/step - loss: 0.5329 - accuracy: 0.7826\n",
            "Epoch 41/100\n",
            "154/154 [==============================] - 0s 1ms/step - loss: 0.6163 - accuracy: 0.7775\n",
            "Epoch 42/100\n",
            "154/154 [==============================] - 0s 1ms/step - loss: 0.5108 - accuracy: 0.7855\n",
            "Epoch 43/100\n",
            "154/154 [==============================] - 0s 1ms/step - loss: 0.6426 - accuracy: 0.7808\n",
            "Epoch 44/100\n",
            "154/154 [==============================] - 0s 1ms/step - loss: 0.7280 - accuracy: 0.7639\n",
            "Epoch 45/100\n",
            "154/154 [==============================] - 0s 1ms/step - loss: 0.6288 - accuracy: 0.7765\n",
            "Epoch 46/100\n",
            "154/154 [==============================] - 0s 1ms/step - loss: 0.5694 - accuracy: 0.7822\n",
            "Epoch 47/100\n",
            "154/154 [==============================] - 0s 1ms/step - loss: 1.0876 - accuracy: 0.7517\n",
            "Epoch 48/100\n",
            "154/154 [==============================] - 0s 1ms/step - loss: 0.6578 - accuracy: 0.7779\n",
            "Epoch 49/100\n",
            "154/154 [==============================] - 0s 1ms/step - loss: 0.5725 - accuracy: 0.7773\n",
            "Epoch 50/100\n",
            "154/154 [==============================] - 0s 1ms/step - loss: 0.7808 - accuracy: 0.7735\n",
            "Epoch 51/100\n",
            "154/154 [==============================] - 0s 1ms/step - loss: 0.6452 - accuracy: 0.7737\n",
            "Epoch 52/100\n",
            "154/154 [==============================] - 0s 1ms/step - loss: 0.7017 - accuracy: 0.7645\n",
            "Epoch 53/100\n",
            "154/154 [==============================] - 0s 1ms/step - loss: 0.6474 - accuracy: 0.7755\n",
            "Epoch 54/100\n",
            "154/154 [==============================] - 0s 1ms/step - loss: 0.5583 - accuracy: 0.7720\n",
            "Epoch 55/100\n",
            "154/154 [==============================] - 0s 1ms/step - loss: 0.6548 - accuracy: 0.7779\n",
            "Epoch 56/100\n",
            "154/154 [==============================] - 0s 1ms/step - loss: 0.5533 - accuracy: 0.7871\n",
            "Epoch 57/100\n",
            "154/154 [==============================] - 0s 1ms/step - loss: 0.7069 - accuracy: 0.7753\n",
            "Epoch 58/100\n",
            "154/154 [==============================] - 0s 1ms/step - loss: 0.9770 - accuracy: 0.7619\n",
            "Epoch 59/100\n",
            "154/154 [==============================] - 0s 1ms/step - loss: 0.5739 - accuracy: 0.7798\n",
            "Epoch 60/100\n",
            "154/154 [==============================] - 0s 1ms/step - loss: 0.5547 - accuracy: 0.7838\n",
            "Epoch 61/100\n",
            "154/154 [==============================] - 0s 1ms/step - loss: 0.6173 - accuracy: 0.7773\n",
            "Epoch 62/100\n",
            "154/154 [==============================] - 0s 1ms/step - loss: 0.6389 - accuracy: 0.7759\n",
            "Epoch 63/100\n",
            "154/154 [==============================] - 0s 1ms/step - loss: 0.6213 - accuracy: 0.7747\n",
            "Epoch 64/100\n",
            "154/154 [==============================] - 0s 1ms/step - loss: 0.5830 - accuracy: 0.7818\n",
            "Epoch 65/100\n",
            "154/154 [==============================] - 0s 1ms/step - loss: 0.6955 - accuracy: 0.7718\n",
            "Epoch 66/100\n",
            "154/154 [==============================] - 0s 1ms/step - loss: 0.6946 - accuracy: 0.7733\n",
            "Epoch 67/100\n",
            "154/154 [==============================] - 0s 1ms/step - loss: 0.6781 - accuracy: 0.7753\n",
            "Epoch 68/100\n",
            "154/154 [==============================] - 0s 1ms/step - loss: 0.6789 - accuracy: 0.7747\n",
            "Epoch 69/100\n",
            "154/154 [==============================] - 0s 1ms/step - loss: 0.5580 - accuracy: 0.7828\n",
            "Epoch 70/100\n",
            "154/154 [==============================] - 0s 1ms/step - loss: 0.7349 - accuracy: 0.7684\n",
            "Epoch 71/100\n",
            "154/154 [==============================] - 0s 1ms/step - loss: 0.6428 - accuracy: 0.7708\n",
            "Epoch 72/100\n",
            "154/154 [==============================] - 0s 1ms/step - loss: 0.7570 - accuracy: 0.7607\n",
            "Epoch 73/100\n",
            "154/154 [==============================] - 0s 1ms/step - loss: 0.5856 - accuracy: 0.7828\n",
            "Epoch 74/100\n",
            "154/154 [==============================] - 0s 1ms/step - loss: 0.4925 - accuracy: 0.7903\n",
            "Epoch 75/100\n",
            "154/154 [==============================] - 0s 1ms/step - loss: 0.5507 - accuracy: 0.7794\n",
            "Epoch 76/100\n",
            "154/154 [==============================] - 0s 1ms/step - loss: 0.6884 - accuracy: 0.7733\n",
            "Epoch 77/100\n",
            "154/154 [==============================] - 0s 1ms/step - loss: 0.5664 - accuracy: 0.7875\n",
            "Epoch 78/100\n",
            "154/154 [==============================] - 0s 1ms/step - loss: 0.7968 - accuracy: 0.7757\n",
            "Epoch 79/100\n",
            "154/154 [==============================] - 0s 1ms/step - loss: 0.6695 - accuracy: 0.7761\n",
            "Epoch 80/100\n",
            "154/154 [==============================] - 0s 1ms/step - loss: 0.7102 - accuracy: 0.7729\n",
            "Epoch 81/100\n",
            "154/154 [==============================] - 0s 1ms/step - loss: 0.7289 - accuracy: 0.7712\n",
            "Epoch 82/100\n",
            "154/154 [==============================] - 0s 1ms/step - loss: 0.5449 - accuracy: 0.7838\n",
            "Epoch 83/100\n",
            "154/154 [==============================] - 0s 2ms/step - loss: 0.6336 - accuracy: 0.7834\n",
            "Epoch 84/100\n",
            "154/154 [==============================] - 0s 1ms/step - loss: 0.7035 - accuracy: 0.7739\n",
            "Epoch 85/100\n",
            "154/154 [==============================] - 0s 1ms/step - loss: 0.5352 - accuracy: 0.7852\n",
            "Epoch 86/100\n",
            "154/154 [==============================] - 0s 1ms/step - loss: 0.6508 - accuracy: 0.7761\n",
            "Epoch 87/100\n",
            "154/154 [==============================] - 0s 1ms/step - loss: 0.5702 - accuracy: 0.7810\n",
            "Epoch 88/100\n",
            "154/154 [==============================] - 0s 1ms/step - loss: 0.7040 - accuracy: 0.7743\n",
            "Epoch 89/100\n",
            "154/154 [==============================] - 0s 1ms/step - loss: 0.8404 - accuracy: 0.7678\n",
            "Epoch 90/100\n",
            "154/154 [==============================] - 0s 1ms/step - loss: 0.5734 - accuracy: 0.7869\n",
            "Epoch 91/100\n",
            "154/154 [==============================] - 0s 1ms/step - loss: 0.5696 - accuracy: 0.7796\n",
            "Epoch 92/100\n",
            "154/154 [==============================] - 0s 1ms/step - loss: 0.5417 - accuracy: 0.7838\n",
            "Epoch 93/100\n",
            "154/154 [==============================] - 0s 1ms/step - loss: 0.6890 - accuracy: 0.7714\n",
            "Epoch 94/100\n",
            "154/154 [==============================] - 0s 1ms/step - loss: 0.7371 - accuracy: 0.7722\n",
            "Epoch 95/100\n",
            "154/154 [==============================] - 0s 1ms/step - loss: 0.6865 - accuracy: 0.7783\n",
            "Epoch 96/100\n",
            "154/154 [==============================] - 0s 1ms/step - loss: 0.7792 - accuracy: 0.7727\n",
            "Epoch 97/100\n",
            "154/154 [==============================] - 0s 1ms/step - loss: 0.5710 - accuracy: 0.7930\n",
            "Epoch 98/100\n",
            "154/154 [==============================] - 0s 1ms/step - loss: 0.6667 - accuracy: 0.7857\n",
            "Epoch 99/100\n",
            "154/154 [==============================] - 0s 1ms/step - loss: 0.7830 - accuracy: 0.7682\n",
            "Epoch 100/100\n",
            "154/154 [==============================] - 0s 1ms/step - loss: 0.7710 - accuracy: 0.7720\n"
          ]
        },
        {
          "output_type": "execute_result",
          "data": {
            "text/plain": [
              "<keras.callbacks.History at 0x7ff727791b70>"
            ]
          },
          "metadata": {},
          "execution_count": 51
        }
      ]
    },
    {
      "cell_type": "code",
      "source": [
        "model.evaluate(X_test,y_test)"
      ],
      "metadata": {
        "colab": {
          "base_uri": "https://localhost:8080/"
        },
        "id": "k_7X6AmgtVE1",
        "outputId": "b0cce822-3dce-4709-9a58-f52a9f408333"
      },
      "execution_count": null,
      "outputs": [
        {
          "output_type": "stream",
          "name": "stdout",
          "text": [
            "66/66 [==============================] - 0s 949us/step - loss: 0.6900 - accuracy: 0.6986\n"
          ]
        },
        {
          "output_type": "execute_result",
          "data": {
            "text/plain": [
              "[0.6900379061698914, 0.6985781788825989]"
            ]
          },
          "metadata": {},
          "execution_count": 52
        }
      ]
    },
    {
      "cell_type": "code",
      "source": [
        "y_pred=model.predict(X_test)\n",
        "y_pred[:2]"
      ],
      "metadata": {
        "colab": {
          "base_uri": "https://localhost:8080/"
        },
        "id": "TstM0cKUuhEF",
        "outputId": "ee7d9bcc-c568-4e85-b4be-85cf486252bb"
      },
      "execution_count": null,
      "outputs": [
        {
          "output_type": "stream",
          "name": "stdout",
          "text": [
            "66/66 [==============================] - 0s 749us/step\n"
          ]
        },
        {
          "output_type": "execute_result",
          "data": {
            "text/plain": [
              "array([[0.01115342],\n",
              "       [0.22705288]], dtype=float32)"
            ]
          },
          "metadata": {},
          "execution_count": 53
        }
      ]
    },
    {
      "cell_type": "code",
      "source": [
        "y_test"
      ],
      "metadata": {
        "colab": {
          "base_uri": "https://localhost:8080/"
        },
        "id": "5EAxlRTzuq-2",
        "outputId": "6022acf1-036e-4305-8bf6-6214bcdb271c"
      },
      "execution_count": null,
      "outputs": [
        {
          "output_type": "execute_result",
          "data": {
            "text/plain": [
              "2481    0\n",
              "6784    0\n",
              "6125    1\n",
              "3052    0\n",
              "4099    0\n",
              "       ..\n",
              "2763    0\n",
              "6747    0\n",
              "1700    0\n",
              "1099    0\n",
              "4720    0\n",
              "Name: Churn, Length: 2110, dtype: int64"
            ]
          },
          "metadata": {},
          "execution_count": 54
        }
      ]
    },
    {
      "cell_type": "code",
      "source": [
        "y_prediction=[]\n",
        "for elements in y_pred:\n",
        "  if elements>0.5:\n",
        "    y_prediction.append(1)\n",
        "  else:\n",
        "    y_prediction.append(0)\n",
        "y_prediction[:5]"
      ],
      "metadata": {
        "colab": {
          "base_uri": "https://localhost:8080/"
        },
        "id": "LK9cXGmruvhl",
        "outputId": "12f6bbd6-53be-4993-88c8-84e3cbd739b1"
      },
      "execution_count": null,
      "outputs": [
        {
          "output_type": "execute_result",
          "data": {
            "text/plain": [
              "[0, 0, 1, 0, 0]"
            ]
          },
          "metadata": {},
          "execution_count": 55
        }
      ]
    },
    {
      "cell_type": "code",
      "source": [
        "cm=tf.math.confusion_matrix(labels=y_test,\n",
        "                            predictions=y_prediction)\n",
        "plt.figure(figsize=(10,8))\n",
        "snp.heatmap(cm, annot=True, fmt='d')\n",
        "plt.xlabel('Predicted')\n",
        "plt.ylabel('Truth')"
      ],
      "metadata": {
        "colab": {
          "base_uri": "https://localhost:8080/",
          "height": 713
        },
        "id": "rECxZCiyvP7y",
        "outputId": "607641b1-c192-477b-8041-2d51c2e65b7a"
      },
      "execution_count": null,
      "outputs": [
        {
          "output_type": "execute_result",
          "data": {
            "text/plain": [
              "Text(95.72222222222221, 0.5, 'Truth')"
            ]
          },
          "metadata": {},
          "execution_count": 61
        },
        {
          "output_type": "display_data",
          "data": {
            "text/plain": [
              "<Figure size 1000x800 with 2 Axes>"
            ],
            "image/png": "[encoded data removed]"
          },
          "metadata": {}
        }
      ]
    },
    {
      "cell_type": "markdown",
      "source": [
        "Accuracy"
      ],
      "metadata": {
        "id": "5HYfXqZLwthj"
      }
    },
    {
      "cell_type": "code",
      "source": [
        "round((873+222)/(873+222+186+126),2)"
      ],
      "metadata": {
        "colab": {
          "base_uri": "https://localhost:8080/"
        },
        "id": "Uu1fdXGav-VG",
        "outputId": "d574486c-f89b-444f-8c9d-c821b286731d"
      },
      "execution_count": null,
      "outputs": [
        {
          "output_type": "execute_result",
          "data": {
            "text/plain": [
              "0.78"
            ]
          },
          "metadata": {},
          "execution_count": 62
        }
      ]
    },
    {
      "cell_type": "markdown",
      "source": [
        "Precision for customers who did not churn"
      ],
      "metadata": {
        "id": "YQWXPxMaw_da"
      }
    },
    {
      "cell_type": "code",
      "source": [
        "round(873/(873+186),2)"
      ],
      "metadata": {
        "colab": {
          "base_uri": "https://localhost:8080/"
        },
        "id": "uMQqwZbrw7yo",
        "outputId": "7bb4fbe7-59ba-441c-9b27-0a9d218ecf14"
      },
      "execution_count": null,
      "outputs": [
        {
          "output_type": "execute_result",
          "data": {
            "text/plain": [
              "0.82"
            ]
          },
          "metadata": {},
          "execution_count": 64
        }
      ]
    },
    {
      "cell_type": "markdown",
      "source": [
        "Precision for customers who actually"
      ],
      "metadata": {
        "id": "Jf9GtUQcxgHX"
      }
    },
    {
      "cell_type": "code",
      "source": [
        "round(222/(222+126),2)"
      ],
      "metadata": {
        "colab": {
          "base_uri": "https://localhost:8080/"
        },
        "id": "CSkxqZlQxXBh",
        "outputId": "e3cac266-766e-4487-d862-f3208c2511cb"
      },
      "execution_count": null,
      "outputs": [
        {
          "output_type": "execute_result",
          "data": {
            "text/plain": [
              "0.64"
            ]
          },
          "metadata": {},
          "execution_count": 65
        }
      ]
    },
    {
      "cell_type": "markdown",
      "source": [
        "Recall for 0"
      ],
      "metadata": {
        "id": "zH24CHQCxrlt"
      }
    },
    {
      "cell_type": "code",
      "source": [
        "round(873/(873+126),2)"
      ],
      "metadata": {
        "colab": {
          "base_uri": "https://localhost:8080/"
        },
        "id": "K_s-HupFxqe-",
        "outputId": "b336fb98-e4bc-4f2f-9faf-647a549e4d16"
      },
      "execution_count": null,
      "outputs": [
        {
          "output_type": "execute_result",
          "data": {
            "text/plain": [
              "0.87"
            ]
          },
          "metadata": {},
          "execution_count": 66
        }
      ]
    },
    {
      "cell_type": "markdown",
      "source": [
        "Recall for 1"
      ],
      "metadata": {
        "id": "h9cQXappx0Fc"
      }
    },
    {
      "cell_type": "code",
      "source": [
        "round(222/(222+186),2)"
      ],
      "metadata": {
        "colab": {
          "base_uri": "https://localhost:8080/"
        },
        "id": "RI8xxOTmxzQs",
        "outputId": "f9430a9e-1dcb-4bff-9861-6a25520e86be"
      },
      "execution_count": null,
      "outputs": [
        {
          "output_type": "execute_result",
          "data": {
            "text/plain": [
              "0.54"
            ]
          },
          "metadata": {},
          "execution_count": 67
        }
      ]
    }
  ]
}